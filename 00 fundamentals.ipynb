{
 "cells": [
  {
   "cell_type": "markdown",
   "metadata": {},
   "source": [
    "# Fundamentals\n",
    "\n",
    "This notebook provides a hands-on exploration of basic Python programming concepts. It starts with simple control flow constructs such as break, continue, and pass statements, demonstrating how to manage and alter loop execution. Moving further, it covers logical operators (like equality and identity operators) and bitwise operators, illustrating how these can be used to manipulate binary representations. Finally, the notebook explains assignment operators through practical examples. Overall, it integrates various elements of Python programming to build a comprehensive learning resource.\n",
    "\n"
   ]
  },
  {
   "cell_type": "markdown",
   "metadata": {},
   "source": [
    "## Example of break, continue, and pass statements"
   ]
  },
  {
   "cell_type": "code",
   "execution_count": 4,
   "metadata": {},
   "outputs": [
    {
     "name": "stdout",
     "output_type": "stream",
     "text": [
      "Example of break statement:\n",
      "0\n",
      "1\n",
      "2\n",
      "3\n",
      "4\n",
      "Loop exited at i = 5\n",
      " and j = 6\n",
      "0\n",
      "1\n",
      "2\n",
      "3\n",
      "4\n",
      "Loop exited at i = 5\n",
      " and j = 12\n"
     ]
    }
   ],
   "source": [
    "# break statement\n",
    "# The break statement is used to exit a loop prematurely.\n",
    "print(\"Example of break statement:\")\n",
    "j = 0\n",
    "while j < 10:\n",
    "    for i in range(10): # Breaks only the inner loop\n",
    "        j += 1\n",
    "        if i == 5:\n",
    "            break  # Exit the loop when i is 5\n",
    "        print(i)\n",
    "    print(f\"Loop exited at i = 5\\n and j = {j}\")"
   ]
  },
  {
   "cell_type": "code",
   "execution_count": 5,
   "metadata": {},
   "outputs": [
    {
     "name": "stdout",
     "output_type": "stream",
     "text": [
      "Example of continue statement:\n",
      "1\n",
      "3\n",
      "5\n",
      "7\n",
      "9\n",
      "Loop skipped even numbers\n",
      "\n"
     ]
    }
   ],
   "source": [
    "# The continue statement is used to skip the current iteration and continue with the next iteration of the loop.\n",
    "print(\"Example of continue statement:\")\n",
    "for i in range(10):\n",
    "    if i % 2 == 0:\n",
    "        continue  # Skip the current iteration if i is even\n",
    "    print(i)\n",
    "print(\"Loop skipped even numbers\\n\")"
   ]
  },
  {
   "cell_type": "code",
   "execution_count": 6,
   "metadata": {},
   "outputs": [
    {
     "name": "stdout",
     "output_type": "stream",
     "text": [
      "Example of pass statement:\n",
      "1\n",
      "3\n",
      "5\n",
      "7\n",
      "9\n",
      "Loop executed pass statement for even numbers\n",
      "\n"
     ]
    }
   ],
   "source": [
    "# The pass statement is a null operation; it is used when a statement is required syntactically but no code needs to be executed.\n",
    "print(\"Example of pass statement:\")\n",
    "for i in range(10):\n",
    "    if i % 2 == 0:\n",
    "        pass  # Do nothing (placeholder for future code)\n",
    "    else:\n",
    "        print(i)\n",
    "print(\"Loop executed pass statement for even numbers\\n\")"
   ]
  },
  {
   "cell_type": "markdown",
   "metadata": {},
   "source": [
    "## Logical\n",
    "\n",
    "\n",
    "- Equality Operator (==):\n",
    "    - Purpose: Checks if the values of two variables are equal.\n",
    "    - Usage: Use `==` when you want to compare the data or content of two objects.\n",
    "    - Example: `result_equality = a == b` \n",
    "      This checks whether the value of `a` is equal to the value of `b`.\n",
    "\n",
    "- Identity Operator (is):\n",
    "    - Purpose: Checks if two variables reference the same object in memory.\n",
    "    - Usage: Use `is` when you need to determine if two variables point to the exact same object, not just equivalent values.\n",
    "    - Example: `result_identity = a is b` \n",
    "      This checks whether `a` and `b` refer to the same object.\n"
   ]
  },
  {
   "cell_type": "code",
   "execution_count": 7,
   "metadata": {},
   "outputs": [
    {
     "name": "stdout",
     "output_type": "stream",
     "text": [
      "list1 == list2: True\n",
      "list1 is list2: False\n"
     ]
    }
   ],
   "source": [
    "# Create two separate list objects that are equal in value, but not the same object in memory.\n",
    "list1 = [1, 2, 3]\n",
    "list2 = [1, 2, 3]\n",
    "\n",
    "print(\"list1 == list2:\", list1 == list2)  # True because they have the same content\n",
    "print(\"list1 is list2:\", list1 is list2)  # False because they are distinct objects in memory\n"
   ]
  },
  {
   "cell_type": "markdown",
   "metadata": {},
   "source": [
    "Below is a simple example demonstrating the use of the \"and\" and \"or\" operators using the existing variables:"
   ]
  },
  {
   "cell_type": "code",
   "execution_count": 8,
   "metadata": {},
   "outputs": [
    {
     "name": "stdout",
     "output_type": "stream",
     "text": [
      "Both i > 5 and j > 10 are True.\n",
      "Either i > 10 or j > 10 (or both) is True.\n"
     ]
    }
   ],
   "source": [
    "\n",
    "if i > 5 and j > 10:\n",
    "  print(\"Both i > 5 and j > 10 are True.\")\n",
    "\n",
    "if i > 10 or j > 10:\n",
    "  print(\"Either i > 10 or j > 10 (or both) is True.\")\n",
    "\n"
   ]
  },
  {
   "cell_type": "markdown",
   "metadata": {},
   "source": [
    "## Bitwise"
   ]
  },
  {
   "cell_type": "code",
   "execution_count": 10,
   "metadata": {},
   "outputs": [
    {
     "data": {
      "text/plain": [
       "1"
      ]
     },
     "execution_count": 10,
     "metadata": {},
     "output_type": "execute_result"
    }
   ],
   "source": [
    "# Bitwise AND\n",
    "x = 5  # binary: 0101\n",
    "y = 3  # binary: 0011\n",
    "result_bitwise = x & y  # result_bitwise will be 1 (binary: 0001)\n",
    "result_bitwise"
   ]
  },
  {
   "cell_type": "code",
   "execution_count": 12,
   "metadata": {},
   "outputs": [
    {
     "name": "stdout",
     "output_type": "stream",
     "text": [
      "Result of 16 >> 2: 4\n"
     ]
    }
   ],
   "source": [
    "# Example of using the right shift operator (>>)\n",
    "# This shifts the binary representation of the number to the right.\n",
    "\n",
    "# Take a number, e.g., 16 (binary: 10000)\n",
    "a = 16\n",
    "\n",
    "# Shift right by 2 positions. \n",
    "# 10000 shifted right by 2 becomes 00100, which is 4 in decimal.\n",
    "result_shift = a >> 2\n",
    "\n",
    "print(\"Result of 16 >> 2:\", result_shift)"
   ]
  },
  {
   "cell_type": "markdown",
   "metadata": {},
   "source": [
    "#### Minimum Array End Medium\n",
    "\n",
    "You are given two integers n and x. \n",
    "\n",
    "You have to construct an array of positive integers nums of size n where for every 0 <= i < n - 1, nums[i + 1] is greater than nums[i], and the result of the bitwise AND operation between all elements of nums is x.\n",
    "\n",
    "\n",
    "Explanation\n",
    "\n",
    "\n",
    "The operation | x guarantees that all bits that are present in x remain set in a. This is crucial because we need every element of our constructed array to have an AND of x.\n",
    "Essentially, after incrementing, the bitwise OR forces the new number to \"carry over\" any bits from x that might otherwise be unset.\n"
   ]
  },
  {
   "cell_type": "code",
   "execution_count": 74,
   "metadata": {},
   "outputs": [],
   "source": [
    "n = 4\n",
    "x = 1"
   ]
  },
  {
   "cell_type": "code",
   "execution_count": 71,
   "metadata": {},
   "outputs": [
    {
     "name": "stdout",
     "output_type": "stream",
     "text": [
      "Minimum last element: 6\n"
     ]
    }
   ],
   "source": [
    "def min_end(n: int, x: int) -> int:\n",
    "    # start with a = x\n",
    "    a = x\n",
    "    # perform the loop n-1 times\n",
    "    for _ in range(n - 1):\n",
    "        a = (a + 1) | x\n",
    "    return a\n",
    "\n",
    "# Example usage:\n",
    "if __name__ == \"__main__\":\n",
    "    # For example, n = 4, x = 1 should return 7.\n",
    "    n = 3\n",
    "    x = 4\n",
    "    print(\"Minimum last element:\", min_end(n, x))"
   ]
  },
  {
   "cell_type": "code",
   "execution_count": 73,
   "metadata": {},
   "outputs": [
    {
     "data": {
      "text/plain": [
       "4"
      ]
     },
     "execution_count": 73,
     "metadata": {},
     "output_type": "execute_result"
    }
   ],
   "source": [
    "4 & 5"
   ]
  },
  {
   "cell_type": "code",
   "execution_count": 75,
   "metadata": {},
   "outputs": [
    {
     "name": "stdout",
     "output_type": "stream",
     "text": [
      "n = 4, x = 1 -> 7\n",
      "n = 2, x = 7 -> 15\n"
     ]
    }
   ],
   "source": [
    "def min_end(n: int, x: int) -> int:\n",
    "    \"\"\"\n",
    "    Compute the minimal final element 'a' given that:\n",
    "       a0 = x and\n",
    "       a_{i+1} = (a_i + 1) | x   for i >= 0.\n",
    "    \n",
    "    The iterative algorithm (which does a = (a+1) | x for n-1 times)\n",
    "    would be too slow if n is huge. We show that the final answer can be written as:\n",
    "        a = x + d,\n",
    "    where d is determined by the binary representation of (n-1) and by the missing bits in x.\n",
    "    \n",
    "    The idea:\n",
    "      Let m = n - 1.\n",
    "      Look at the binary expansion of m.\n",
    "      For each bit position (starting at 0) that is NOT set in x, assign the next bit of m.\n",
    "      The contribution of that missing bit position is (1 << bit) if the corresponding bit in m is 1.\n",
    "      When done, the answer is: x + sum (over missing positions) { (bit from m) * (1 << corresponding_position) }.\n",
    "      \n",
    "    This runs in O(log n) time.\n",
    "    \"\"\"\n",
    "    m = n - 1         # we'll “encode” m into the missing positions.\n",
    "    add = 0           # this will collect the extra amount to add to x.\n",
    "    bit = 0           # iterating over bit positions.\n",
    "    \n",
    "    # Process bits as long as m has bits left\n",
    "    while m:\n",
    "        # Check if current bit position is already set in x.\n",
    "        if (x >> bit) & 1:\n",
    "            # Bit is present in x; do not use it. Move to next bit position.\n",
    "            bit += 1\n",
    "            continue\n",
    "        \n",
    "        # Bit is missing from x.\n",
    "        # Use the least significant bit of m to decide whether to add 2^(bit).\n",
    "        if m & 1:\n",
    "            add += (1 << bit)\n",
    "        \n",
    "        # Shift m right – we have “used” one bit of m for this missing position.\n",
    "        m >>= 1\n",
    "        bit += 1\n",
    "\n",
    "    # Return the computed result.\n",
    "    return x + add\n",
    "\n",
    "# Example usage:\n",
    "if __name__ == \"__main__\":\n",
    "    # Test example: n = 4, x = 1. Expected result is 7.\n",
    "    print(\"n = 4, x = 1 ->\", min_end(4, 1))\n",
    "    \n",
    "    # Another example: n = 2, x = 7. Expected result is 15.\n",
    "    print(\"n = 2, x = 7 ->\", min_end(2, 7))"
   ]
  },
  {
   "cell_type": "markdown",
   "metadata": {},
   "source": [
    "## Assigment Operators"
   ]
  },
  {
   "cell_type": "code",
   "execution_count": 18,
   "metadata": {},
   "outputs": [
    {
     "name": "stdout",
     "output_type": "stream",
     "text": [
      "Initial num: 16\n",
      "ID: 4311225400 4311225400\n",
      "After += 4: 20\n",
      "After -= 2: 18\n",
      "After *= 3: 54\n",
      "After /= 2: 27.0\n",
      "After //= 4: 6.0\n",
      "After %= 7: 6.0\n",
      "After **= 2: 36.0\n"
     ]
    }
   ],
   "source": [
    "\n",
    "a = 16\n",
    "\n",
    "# Demonstration of assignment operators using an existing variable 'a', which is 16.\n",
    "num = a  # Initialize num with the value of a (16)\n",
    "\n",
    "print(\"Initial num:\", num)\n",
    "\n",
    "print(\"ID:\", id(a), id(num))\n",
    "\n",
    "num += 4  # Equivalent to num = num + 4; now num is 20\n",
    "print(\"After += 4:\", num)\n",
    "\n",
    "num -= 2  # Equivalent to num = num - 2; now num is 18\n",
    "print(\"After -= 2:\", num)\n",
    "\n",
    "num *= 3  # Equivalent to num = num * 3; now num is 54\n",
    "print(\"After *= 3:\", num)\n",
    "\n",
    "num /= 2  # Equivalent to num = num / 2; now num is 27.0\n",
    "print(\"After /= 2:\", num)\n",
    "\n",
    "num //= 4  # Equivalent to num = num // 4; now num is 6.0 (floor division)\n",
    "print(\"After //= 4:\", num)\n",
    "\n",
    "num %= 7  # Equivalent to num = num % 7; now num is 6.0 (6.0 % 7 remains 6.0)\n",
    "print(\"After %= 7:\", num)\n",
    "\n",
    "num **= 2  # Equivalent to num = num ** 2; now num is 36.0\n",
    "print(\"After **= 2:\", num)"
   ]
  },
  {
   "cell_type": "code",
   "execution_count": null,
   "metadata": {},
   "outputs": [],
   "source": []
  }
 ],
 "metadata": {
  "kernelspec": {
   "display_name": "condav0",
   "language": "python",
   "name": "python3"
  },
  "language_info": {
   "codemirror_mode": {
    "name": "ipython",
    "version": 3
   },
   "file_extension": ".py",
   "mimetype": "text/x-python",
   "name": "python",
   "nbconvert_exporter": "python",
   "pygments_lexer": "ipython3",
   "version": "3.12.7"
  }
 },
 "nbformat": 4,
 "nbformat_minor": 2
}
