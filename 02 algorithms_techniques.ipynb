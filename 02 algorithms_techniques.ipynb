{
 "cells": [
  {
   "cell_type": "markdown",
   "metadata": {},
   "source": [
    "# Algorithms\n",
    "\n",
    "Python offers a versatile and intuitive platform for implementing a wide range of algorithm techniques. In this notebook, we've demonstrated several key methods:\n",
    "\n",
    "- Binary search (both iterative and recursive) illustrates an efficient way to locate elements in a sorted list.\n",
    "- Binary trees and Binary Search Trees (BST) highlight hierarchical data structures that underpin many complex algorithms.\n",
    "- Greedy algorithms, BFS, and DFS are explored in the context of graph traversal and problem solving.  \n",
    "- Graph-related algorithms, including the check for a valid tree, show how systematic approaches can ensure the correctness of tree and network structures.\n",
    "\n",
    "Each algorithm technique is implemented with clarity, using Python’s straightforward syntax to emphasize both practicality and readability. This design allows for easy experimentation and a deeper understanding of how these algorithms work together to solve common computational problems."
   ]
  },
  {
   "cell_type": "markdown",
   "metadata": {},
   "source": [
    "An algorithm which is not in-place is sometimes called not-in-place or out-of-place.\n",
    "\n",
    "- in-place means that the algorithm does not use extra space for manipulating the input but may require a small though nonconstant extra space for its operation. Usually, this space is O(log n), though sometimes anything in o(n) is allowed.\n"
   ]
  },
  {
   "cell_type": "markdown",
   "metadata": {},
   "source": [
    "## Recursion and Iteration\n",
    "--------------------------\n",
    "\n",
    "Recursion is a programming technique where a function calls itself with a subset of its original problem. This is especially useful for problems that have a naturally recursive structure, such as tree traversals, factorial computations, and the Fibonacci sequence. A recursive approach typically includes:\n",
    "\n",
    "• A clear base case that stops further recursive calls.  \n",
    "• A reduction step, where the problem size is decreased with each recursive call.  \n",
    "\n",
    "For example, calculating the factorial of a number using recursion involves multiplying the number by the factorial of one less than the number until reaching 1.\n",
    "\n",
    "Iteration, on the other hand, uses looping constructs (such as for and while loops) to repeat a block of code until a condition is met. This method is often easier to understand when the number of iterations is clearly determined before the loop starts or can be computed on the fly. Iterative solutions can be more memory efficient because they avoid the overhead of multiple function calls.\n",
    "\n",
    "Both approaches have their strengths: recursion can lead to more elegant and concise code for problems with a recursive nature, while iteration can be more efficient in terms of performance and resource usage when handling simple loops.\n",
    "\n"
   ]
  },
  {
   "cell_type": "markdown",
   "metadata": {},
   "source": [
    "### Pow(x, n)\n",
    "\n",
    "\n",
    "Implement pow(x, n), which calculates x raised to the power n (i.e., xn).\n",
    "\n",
    "\n",
    "Input: x = 2.00000, n = 10\n",
    "Output: 1024.00000\n",
    "Example 2:\n",
    "\n",
    "Input: x = 2.10000, n = 3\n",
    "Output: 9.26100\n",
    "Example 3:\n",
    "\n",
    "Input: x = 2.00000, n = -2\n",
    "Output: 0.25000\n",
    "Explanation: 2-2 = 1/22 = 1/4 = 0.25\n"
   ]
  },
  {
   "cell_type": "markdown",
   "metadata": {},
   "source": [
    "Key Takeaways:\n",
    "\n",
    "The function performs one recursive call per decrement of n, which makes the time complexity linear, O(n).\n",
    "\n",
    "**Space Complexity:**  \n",
    "The space complexity is also O(n) due to the depth of the recursion (because Python uses a call stack to keep track of each recursive call).\n",
    "\n",
    "$$ x^{n} = x \\times x^{n-1} $$\n",
    "\n",
    "### Detailed Explanation\n",
    "\n",
    "**Handling Negative Exponents:**  \n",
    "- If n is negative, we want to compute the power as the reciprocal. For instance, $ x^{-3} = \\frac{1}{x^3} $.  \n",
    "- The code does this by setting $ x = \\frac{1}{x} $ and turning n into a positive value with `n = -n`.\n",
    "\n",
    "**Initialization:**  \n",
    "- `result` is set to 1.0. This variable will accumulate the answer.  \n",
    "- The loop starts and repeatedly checks the current exponent n.\n",
    "\n",
    "**Exponentiation by Squaring Loop:**  \n",
    "- **When n is odd:**  \n",
    "    The expression `if n & 1:` tests whether the least-significant bit of n is 1 (i.e., whether n is odd).  \n",
    "    If n is odd, we multiply the current result by x because an odd exponent can be written as $ x^{n} = x \\times x^{n-1} $.\n",
    "\n",
    "\n",
    "- **Squaring Step:**  \n",
    "    In every iteration, we square x. This updates x to be $ x^2 $, then $ x^4 $, $ x^8 $, and so on.\n",
    "\n",
    "- **Dividing the Exponent:**  \n",
    "    The exponent n is halved using `n //= 2`, removing the bit that has been processed.  \n",
    "    This halving reduces the number of iterations to roughly $ \\log_2(n) $.\n",
    "\n",
    "**Termination and Return:**  \n",
    "- The loop terminates when n becomes 0. At that point, the variable `result` contains the computed power.  \n",
    "- Finally, `result` is returned."
   ]
  },
  {
   "cell_type": "code",
   "execution_count": 68,
   "metadata": {},
   "outputs": [],
   "source": [
    "def myPow(x: float, n: int) -> float:\n",
    "    \"\"\"\n",
    "    Calculates x raised to the power n using fast (exponentiation by squaring)\n",
    "    with O(log |n|) time complexity.\n",
    "\n",
    "    If n is negative, we convert the problem to computing the reciprocal\n",
    "    of x raised to the positive exponent.\n",
    "    \"\"\"\n",
    "    # Handle negative power\n",
    "    if n < 0:\n",
    "        x = 1 / x\n",
    "        n = -n\n",
    "\n",
    "    result = 1.0\n",
    "    while n:\n",
    "        # If n is odd, multiply result with x.\n",
    "        if n & 1:\n",
    "            result *= x\n",
    "        # Square x for the next bit.\n",
    "        x *= x\n",
    "        # Shift n right by 1 (i.e., integer divide by 2)\n",
    "        n //= 2\n",
    "\n",
    "    return result"
   ]
  },
  {
   "cell_type": "markdown",
   "metadata": {},
   "source": [
    "## Binary Search Explanation:\n",
    "--------------------------\n",
    "Binary search is an efficient algorithm to search for a target value within a sorted list.\n",
    "It repeatedly divides the search interval in half: if the target value is less than the middle element,\n",
    "it continues in the left half; otherwise, it continues in the right half.\n",
    "The algorithm has a time complexity of O(log n).\n",
    "\n",
    "Examples below demonstrate both iterative and recursive implementations of binary search.\n"
   ]
  },
  {
   "cell_type": "code",
   "execution_count": 1,
   "metadata": {},
   "outputs": [
    {
     "name": "stdout",
     "output_type": "stream",
     "text": [
      "Iterative Binary Search:\n",
      "Target 7 found at index: 6\n",
      "\n",
      "Recursive Binary Search:\n",
      "Target 7 found at index: 6\n"
     ]
    }
   ],
   "source": [
    "def binary_search_iterative(arr, target):\n",
    "    \"\"\"\n",
    "    Perform binary search using an iterative approach.\n",
    "    \n",
    "    Parameters:\n",
    "        arr (list): Sorted list to search in.\n",
    "        target: The element to search for.\n",
    "    \n",
    "    Returns:\n",
    "        int: The index of target in arr if found; otherwise, -1.\n",
    "    \"\"\"\n",
    "    left, right = 0, len(arr) - 1\n",
    "    \n",
    "    while left <= right:\n",
    "        mid = (left + right) // 2\n",
    "        if arr[mid] == target:\n",
    "            return mid\n",
    "        elif target < arr[mid]:\n",
    "            right = mid - 1\n",
    "        else:\n",
    "            left = mid + 1\n",
    "    return -1\n",
    "\n",
    "def binary_search_recursive(arr, target, left=0, right=None):\n",
    "    \"\"\"\n",
    "    Perform binary search using a recursive approach.\n",
    "    \n",
    "    Parameters:\n",
    "        arr (list): Sorted list to search in.\n",
    "        target: The element to search for.\n",
    "        left (int): Left index boundary.\n",
    "        right (int): Right index boundary.\n",
    "    \n",
    "    Returns:\n",
    "        int: The index of target in arr if found; otherwise, -1.\n",
    "    \"\"\"\n",
    "    if right is None:\n",
    "        right = len(arr) - 1\n",
    "        \n",
    "    if left > right:\n",
    "        return -1\n",
    "    \n",
    "    mid = (left + right) // 2\n",
    "    if arr[mid] == target:\n",
    "        return mid\n",
    "    elif target < arr[mid]:\n",
    "        return binary_search_recursive(arr, target, left, mid - 1)\n",
    "    else:\n",
    "        return binary_search_recursive(arr, target, mid + 1, right)\n",
    "\n",
    "if __name__ == \"__main__\":\n",
    "    # Example list must be sorted\n",
    "    numbers = [1, 2, 3, 4, 5, 6, 7, 8, 9, 10]\n",
    "    \n",
    "    target = 7\n",
    "    print(\"Iterative Binary Search:\")\n",
    "    index = binary_search_iterative(numbers, target)\n",
    "    print(f\"Target {target} found at index: {index}\" if index != -1 else \"Target not found.\")\n",
    "    \n",
    "    print(\"\\nRecursive Binary Search:\")\n",
    "    index = binary_search_recursive(numbers, target)\n",
    "    print(f\"Target {target} found at index: {index}\" if index != -1 else \"Target not found.\")"
   ]
  },
  {
   "cell_type": "markdown",
   "metadata": {},
   "source": [
    "### Find Peak Element\n",
    "\n",
    "A peak element is an element that is strictly greater than its neighbors.\n",
    "\n",
    "Given a 0-indexed integer array nums, find a peak element, and return its index. If the array contains multiple peaks, return the index to any of the peaks.\n",
    "\n",
    "You may imagine that nums[-1] = nums[n] = -∞. In other words, an element is always considered to be strictly greater than a neighbor that is outside the array.\n",
    "\n",
    "You must write an algorithm that runs in O(log n) time.\n",
    "\n",
    " \n",
    "\n",
    "Example 1:\n",
    "\n",
    "Input: nums = [1,2,3,1]\n",
    "Output: 2\n",
    "Explanation: 3 is a peak element and your function should return the index number 2.\n",
    "Example 2:\n",
    "\n",
    "Input: nums = [1,2,1,3,5,6,4]\n",
    "Output: 5\n",
    "Explanation: Your function can return either index number 1 where the peak element is 2, or index number 5 where the peak element is 6."
   ]
  },
  {
   "cell_type": "code",
   "execution_count": 82,
   "metadata": {},
   "outputs": [
    {
     "name": "stdout",
     "output_type": "stream",
     "text": [
      "Peak index for nums1 = 2\n",
      "Peak index for nums2 = 5\n"
     ]
    }
   ],
   "source": [
    "def findPeakElement(nums):\n",
    "    \"\"\"\n",
    "    Finds a peak element's index in the list nums using binary search.\n",
    "    A peak element is defined as one that is strictly greater than its neighbors.\n",
    "    Assumption: nums[-1] and nums[n] are -infinity.\n",
    "    \"\"\"\n",
    "    left, right = 0, len(nums) - 1\n",
    "    \n",
    "    while left < right:\n",
    "        mid = (left + right) // 2\n",
    "        # Compare element mid with its next element:\n",
    "        if nums[mid] > nums[mid + 1]:\n",
    "            # Peak must lie on the left (including mid)\n",
    "            right = mid\n",
    "        else:\n",
    "            # Peak must lie on the right (excluding mid)\n",
    "            left = mid + 1\n",
    "    \n",
    "    return left\n",
    "\n",
    "# Example usage:\n",
    "if __name__ == \"__main__\":\n",
    "    nums1 = [1, 2, 3, 1]\n",
    "    print(\"Peak index for nums1 =\", findPeakElement(nums1))  # Expected 2\n",
    "\n",
    "    nums2 = [1, 2, 1, 3, 5, 6, 4]\n",
    "    print(\"Peak index for nums2 =\", findPeakElement(nums2))  # Expected 1 or 5"
   ]
  },
  {
   "cell_type": "code",
   "execution_count": 79,
   "metadata": {},
   "outputs": [
    {
     "data": {
      "text/plain": [
       "[-inf, 1, 2, 3, 1, -inf]"
      ]
     },
     "execution_count": 79,
     "metadata": {},
     "output_type": "execute_result"
    }
   ],
   "source": [
    "nums = [1,2,3,1]\n",
    "nums.append(float('-inf'))\n",
    "nums.insert(0, float('-inf'))\n",
    "nums"
   ]
  },
  {
   "cell_type": "markdown",
   "metadata": {},
   "source": [
    "### Closest Binary Search Tree Value\n",
    "\n",
    "Given the root of a binary search tree and a target value, return the value in the BST that is closest to the target. If there are multiple answers, print the smallest."
   ]
  },
  {
   "cell_type": "code",
   "execution_count": 4,
   "metadata": {},
   "outputs": [],
   "source": [
    "class Node:\n",
    "    def __init__(self, key):\n",
    "        self.left = None\n",
    "        self.right = None\n",
    "        self.val = key\n",
    "\n",
    "class BinaryTree:\n",
    "    def __init__(self):\n",
    "        self.root = None\n",
    "    \n",
    "    def insert(self, key):\n",
    "        if self.root is None:\n",
    "            self.root = Node(key)\n",
    "        else:\n",
    "            self._insert_recursively(self.root, key)\n",
    "    \n",
    "    def _insert_recursively(self, root, key):\n",
    "        if key < root.val:\n",
    "            if root.left is None:\n",
    "                root.left = Node(key)\n",
    "            else:\n",
    "                self._insert_recursively(root.left, key)\n",
    "        else:\n",
    "            if root.right is None:\n",
    "                root.right = Node(key)\n",
    "            else:\n",
    "                self._insert_recursively(root.right, key)\n",
    "\n",
    "\n",
    "# Create binary tree and insert nodes from list\n",
    "nodes = [4,2,5,1,3]\n",
    "tree = BinaryTree()\n",
    "\n",
    "for node in nodes:\n",
    "    tree.insert(node)\n",
    "\n"
   ]
  },
  {
   "cell_type": "code",
   "execution_count": 5,
   "metadata": {},
   "outputs": [
    {
     "data": {
      "text/plain": [
       "4"
      ]
     },
     "execution_count": 5,
     "metadata": {},
     "output_type": "execute_result"
    }
   ],
   "source": [
    "tree.root.val"
   ]
  },
  {
   "cell_type": "code",
   "execution_count": 51,
   "metadata": {},
   "outputs": [],
   "source": [
    "def closest_val(root, target: float) -> int:\n",
    "    best = root.val\n",
    "    node = root\n",
    "    while node:\n",
    "        # Calculate the difference for the current node and the best so far\n",
    "        curr_diff = abs(node.val - target)\n",
    "        best_diff = abs(best - target)\n",
    "        # Update best if current node is closer or equally close but smaller in val\n",
    "        if curr_diff < best_diff or (curr_diff == best_diff and node.val < best):\n",
    "            best = node.val\n",
    "        # Traverse the tree using the BST property\n",
    "        if target < node.val:\n",
    "            print(\"<\", node.val)\n",
    "            node = node.left\n",
    "        else:\n",
    "            print(\">\", node.val)\n",
    "            node = node.right\n",
    "    return best"
   ]
  },
  {
   "cell_type": "code",
   "execution_count": 53,
   "metadata": {},
   "outputs": [
    {
     "name": "stdout",
     "output_type": "stream",
     "text": [
      "> 4\n",
      "< 5\n"
     ]
    },
    {
     "data": {
      "text/plain": [
       "4"
      ]
     },
     "execution_count": 53,
     "metadata": {},
     "output_type": "execute_result"
    }
   ],
   "source": [
    "closest_val(tree.root, 4.1)"
   ]
  },
  {
   "cell_type": "markdown",
   "metadata": {},
   "source": [
    "### Closest Binary Search Tree Value\n",
    "\n",
    "\n",
    "Given the root of a binary search tree, a target value, and an integer k, return the k values in the BST that are closest to the target. You may return the answer in any order.\n"
   ]
  },
  {
   "cell_type": "code",
   "execution_count": 6,
   "metadata": {},
   "outputs": [],
   "source": [
    "# Create binary tree and insert nodes from list\n",
    "nodes = [4,2,5,1,3]\n",
    "tree = BinaryTree()\n",
    "\n",
    "for node in nodes:\n",
    "    tree.insert(node)\n"
   ]
  },
  {
   "cell_type": "code",
   "execution_count": 7,
   "metadata": {},
   "outputs": [],
   "source": [
    "def closest_val(root, target, k):\n",
    "    def dfs(node, visited=None, current_diff=None):\n",
    "        if visited is None:\n",
    "            visited = set()\n",
    "            current_diff = {}\n",
    "        visited.add(node.val)\n",
    "        current_diff[node.val] = abs(node.val - target)\n",
    "        if node.left and node.left not in visited:\n",
    "            dfs(node.left, visited, current_diff)\n",
    "        if node.right and node.right not in visited:\n",
    "            dfs(node.right, visited, current_diff)\n",
    "        return visited, current_diff\n",
    "    visited, current_diff = dfs(root)\n",
    "    sorted_diff = sorted(current_diff.items(), key=lambda x: x[1])\n",
    "    \n",
    "    return visited, [key[0] for key in  sorted_diff[:k]]\n",
    "\n"
   ]
  },
  {
   "cell_type": "code",
   "execution_count": 8,
   "metadata": {},
   "outputs": [
    {
     "data": {
      "text/plain": [
       "({1, 2, 3, 4, 5}, [4, 3])"
      ]
     },
     "execution_count": 8,
     "metadata": {},
     "output_type": "execute_result"
    }
   ],
   "source": [
    "closest_val(tree.root, 3.7, 2)"
   ]
  },
  {
   "cell_type": "markdown",
   "metadata": {},
   "source": [
    "#### Other solution more efficient with BST"
   ]
  },
  {
   "cell_type": "code",
   "execution_count": null,
   "metadata": {},
   "outputs": [],
   "source": [
    "import bisect\n",
    "\n",
    "def closestKValues(root, target, k: int):\n",
    "    # Inorder traversal to get sorted values from the BST.\n",
    "    sorted_vals = []\n",
    "    \n",
    "    def inorder(node):\n",
    "        if not node:\n",
    "            return\n",
    "        inorder(node.left)\n",
    "        sorted_vals.append(node.val)\n",
    "        inorder(node.right)\n",
    "    \n",
    "    inorder(root)\n",
    "    \n",
    "    print(sorted_vals)\n",
    "    # Find the insertion point for target using binary search.\n",
    "    pos = bisect.bisect_left(sorted_vals, target)\n",
    "    left, right = pos - 1, pos\n",
    "    result = []\n",
    "    \n",
    "    # Collect k values by comparing the two pointers.\n",
    "    while k > 0:\n",
    "        if left < 0:\n",
    "            result.append(sorted_vals[right])\n",
    "            right += 1\n",
    "        elif right >= len(sorted_vals):\n",
    "            result.append(sorted_vals[left])\n",
    "            left -= 1\n",
    "        elif target - sorted_vals[left] <= sorted_vals[right] - target:\n",
    "            result.append(sorted_vals[left])\n",
    "            left -= 1\n",
    "        else:\n",
    "            result.append(sorted_vals[right])\n",
    "            right += 1\n",
    "        k -= 1\n",
    "        \n",
    "    return result"
   ]
  },
  {
   "cell_type": "code",
   "execution_count": 10,
   "metadata": {},
   "outputs": [
    {
     "name": "stdout",
     "output_type": "stream",
     "text": [
      "[1, 2, 3, 4, 5]\n",
      "3 2 3\n"
     ]
    },
    {
     "data": {
      "text/plain": [
       "[4, 3]"
      ]
     },
     "execution_count": 10,
     "metadata": {},
     "output_type": "execute_result"
    }
   ],
   "source": [
    "closestKValues(tree.root, 3.7, 2)"
   ]
  },
  {
   "cell_type": "markdown",
   "metadata": {},
   "source": [
    "## Greedy Algorithm\n",
    "\n",
    "--------------------------\n",
    "- greedy algorithm selects the best available option without considering the consequences of that choice on future steps. \n"
   ]
  },
  {
   "cell_type": "code",
   "execution_count": 11,
   "metadata": {},
   "outputs": [
    {
     "name": "stdout",
     "output_type": "stream",
     "text": [
      "Selected activities: [(1, 3), (3, 5), (5, 7), (8, 9)]\n"
     ]
    }
   ],
   "source": [
    "def activity_selection(activities):\n",
    "    # Sort activities based on their finish time\n",
    "    activities.sort(key=lambda x: x[1])\n",
    "    \n",
    "    # The first activity always gets selected\n",
    "    selected_activities = [activities[0]]\n",
    "    last_end_time = activities[0][1]\n",
    "    \n",
    "    for i in range(1, len(activities)):\n",
    "        # If the start time of the current activity is greater than or equal to\n",
    "        # the end time of the last selected activity, select it\n",
    "        if activities[i][0] >= last_end_time:\n",
    "            selected_activities.append(activities[i])\n",
    "            last_end_time = activities[i][1]\n",
    "    \n",
    "    return selected_activities\n",
    "\n",
    "# Example usage:\n",
    "activities = [(1, 3), (2, 4), (3, 5), (0, 6), (5, 7), (8, 9), (5, 9)]\n",
    "selected = activity_selection(activities)\n",
    "print(\"Selected activities:\", selected)"
   ]
  },
  {
   "cell_type": "markdown",
   "metadata": {},
   "source": [
    "## Breadth-Fist Search\n",
    "\n",
    "--------------------------\n",
    "\n",
    "Breadth-first search (BFS) is a graph traversal algorithm that starts at a given source node and explores all its neighboring nodes at the present depth level before moving on to nodes at the next depth level. The typical steps include:\n",
    "\n",
    "• Initialize a queue with the starting node.  \n",
    "• Repeatedly dequeue the front node, process it (which could involve incrementing a counter like \"count\" or keeping track using an index \"i\"), and enqueue its non-visited neighbors.  \n",
    "• Continue until the queue is empty, ensuring that all nodes reachable from the source have been visited level by level.\n",
    "\n",
    "This approach guarantees that the algorithm visits nodes in the order of their distance from the start, making it ideal for finding the shortest path in unweighted graphs. Additionally, if your algorithm needs to process groups or ranges of elements (such as the \"intervals\" list), these can be incorporated during the traversal to handle node grouping or to perform specific interval-related logic.\n",
    "\n",
    "\n",
    "The time complexity of BFS is O(V + E), where V is the number of vertices (nodes) and E is the number of edges in the graph. This is because each vertex and each edge is processed exactly once."
   ]
  },
  {
   "cell_type": "code",
   "execution_count": 88,
   "metadata": {},
   "outputs": [],
   "source": [
    "from collections import deque\n",
    "\n",
    "def bfs_component(graph, start, visited):\n",
    "    order = []\n",
    "    queue = deque([start])\n",
    "    visited.add(start)\n",
    "    while queue:\n",
    "        node = queue.popleft()\n",
    "        order.append(node)\n",
    "        print(node)\n",
    "        for neighbor in graph.get(node, []):\n",
    "            if neighbor not in visited:\n",
    "                visited.add(neighbor)\n",
    "                queue.append(neighbor)\n",
    "    return order\n",
    "\n",
    "def bfs_full(graph):\n",
    "    visited = set()\n",
    "    full_order = []\n",
    "    for node in graph:\n",
    "        if node not in visited:\n",
    "            component_order = bfs_component(graph, node, visited)\n",
    "            print(component_order)\n",
    "            full_order.extend(component_order)\n",
    "    return full_order"
   ]
  },
  {
   "cell_type": "code",
   "execution_count": 89,
   "metadata": {},
   "outputs": [],
   "source": [
    "from collections import deque\n",
    "\n",
    "def bfs(graph, root):\n",
    "    visited = set([root])\n",
    "    queue = deque([root])\n",
    "    order = []\n",
    "\n",
    "    while queue:\n",
    "        node = queue.popleft()\n",
    "        order.append(node)\n",
    "        for neighbor in graph[node]:\n",
    "            if neighbor not in visited:\n",
    "                visited.add(neighbor)\n",
    "                queue.append(neighbor)\n",
    "    return order\n"
   ]
  },
  {
   "cell_type": "code",
   "execution_count": 90,
   "metadata": {},
   "outputs": [
    {
     "name": "stdout",
     "output_type": "stream",
     "text": [
      "A\n",
      "B\n",
      "C\n",
      "D\n",
      "E\n",
      "['A', 'B', 'C', 'D', 'E']\n"
     ]
    },
    {
     "data": {
      "text/plain": [
       "['A', 'B', 'C', 'D', 'E']"
      ]
     },
     "execution_count": 90,
     "metadata": {},
     "output_type": "execute_result"
    }
   ],
   "source": [
    "graph = {\n",
    "    'A': ['B', 'C'],\n",
    "    'B': ['D'],\n",
    "    'C': ['E'],\n",
    "    'D': [],\n",
    "    'E': []\n",
    "}\n",
    "bfs_full(graph)"
   ]
  },
  {
   "cell_type": "code",
   "execution_count": null,
   "metadata": {},
   "outputs": [],
   "source": [
    "\n",
    "'''\n",
    "graph = {}\n",
    "# Build adjacency dictionary\n",
    "for u, v in adj_list:\n",
    "    if u not in graph:\n",
    "        graph[u] = []\n",
    "    if v not in graph:\n",
    "        graph[v] = []\n",
    "    graph[u].append(v)'''"
   ]
  },
  {
   "cell_type": "markdown",
   "metadata": {},
   "source": [
    "### Alien Dictionary Hard\n",
    "\n",
    "\n",
    "You are given a list of strings words from the alien language's dictionary. Now it is claimed that the strings in words are sorted lexicographically by the rules of this new language."
   ]
  },
  {
   "cell_type": "code",
   "execution_count": 26,
   "metadata": {},
   "outputs": [],
   "source": [
    "from collections import deque\n",
    "\n",
    "def alienOrder(words):\n",
    "    # Create a graph with all unique characters.\n",
    "    graph = {c: set() for word in words for c in word}\n",
    "    print(graph)\n",
    "    indegree = {c: 0 for c in graph}\n",
    "    \n",
    "    # Build the graph by comparing adjacent words.\n",
    "    for i in range(len(words) - 1):\n",
    "        word1, word2 = words[i], words[i + 1]\n",
    "        min_len = min(len(word1), len(word2))\n",
    "        # Check for the invalid case: word2 is a prefix of word1.\n",
    "        if len(word1) > len(word2) and word1[:min_len] == word2:\n",
    "            return \"\"\n",
    "        # Find the first difference and create an edge.\n",
    "        for j in range(min_len):\n",
    "            if word1[j] != word2[j]:\n",
    "                if word2[j] not in graph[word1[j]]:\n",
    "                    graph[word1[j]].add(word2[j])\n",
    "                    indegree[word2[j]] += 1\n",
    "                break\n",
    "\n",
    "    # Perform topological sort using BFS.\n",
    "    queue = deque([c for c in indegree if indegree[c] == 0])\n",
    "    order = []\n",
    "    \n",
    "    while queue:\n",
    "        c = queue.popleft()\n",
    "        order.append(c)\n",
    "        for neighbor in graph[c]:\n",
    "            indegree[neighbor] -= 1\n",
    "            if indegree[neighbor] == 0:\n",
    "                queue.append(neighbor)\n",
    "    \n",
    "    # If not all characters are in order, there is a cycle.\n",
    "    if len(order) != len(graph):\n",
    "        return \"\"\n",
    "    \n",
    "    return \"\".join(order), graph\n",
    "\n"
   ]
  },
  {
   "cell_type": "code",
   "execution_count": 27,
   "metadata": {},
   "outputs": [],
   "source": [
    "words = [\"wrt\",\"wrf\",\"er\",\"ett\",\"rftt\"]"
   ]
  },
  {
   "cell_type": "code",
   "execution_count": 21,
   "metadata": {},
   "outputs": [
    {
     "name": "stdout",
     "output_type": "stream",
     "text": [
      "Alien order for words1: wertf\n",
      "Alien order for words2: zx\n",
      "Alien order for words3: \n"
     ]
    }
   ],
   "source": [
    "# Example usage:\n",
    "if __name__ == \"__main__\":\n",
    "    words1 = [\"wrt\",\"wrf\",\"er\",\"ett\",\"rftt\"]\n",
    "    print(\"Alien order for words1:\", alienOrder(words1))  # Expected output: \"wertf\" or any valid order\n",
    "    \n",
    "    words2 = [\"z\", \"x\"]\n",
    "    print(\"Alien order for words2:\", alienOrder(words2))  # Expected output: \"zx\"\n",
    "    \n",
    "    words3 = [\"z\", \"x\", \"z\"]\n",
    "    print(\"Alien order for words3:\", alienOrder(words3))  # Expected output: \"\" (due to cycle)"
   ]
  },
  {
   "cell_type": "markdown",
   "metadata": {},
   "source": [
    "## Deapth First Search\n",
    "\n",
    "--------------------------\n",
    "\n",
    "\n",
    "Depth-first search (DFS) is a graph traversal algorithm that explores as far as possible along each branch before backtracking. Here's how it works:\n",
    "\n",
    "Start at a Node: Pick a starting node (often called the root in tree structures).\n",
    "\n",
    "Visit and Mark: Mark the current node as visited.\n",
    "\n",
    "Explore Neighbors: For each unvisited neighbor of the current node, recursively perform DFS.\n",
    "\n",
    "Backtrack: Once a node has no unvisited neighbors, backtrack to the previous node and repeat the process.\n",
    "\n",
    "Continue: Continue until all nodes reachable from the starting node have been visited.\n",
    "\n",
    "DFS can be implemented either recursively or using an explicit stack data structure. It's commonly used for tasks such as cycle detection, topological sorting, and solving puzzles or maze problems.\n",
    "\n",
    "The time complexity of DFS is O(V + E), where V is the number of vertices (nodes) and E is the number of edges in the graph. This is because each vertex and each edge is processed exactly once.\n",
    "\n"
   ]
  },
  {
   "cell_type": "code",
   "execution_count": 33,
   "metadata": {},
   "outputs": [
    {
     "name": "stdout",
     "output_type": "stream",
     "text": [
      "A\n",
      "B\n",
      "D\n",
      "E\n",
      "F\n",
      "C\n"
     ]
    }
   ],
   "source": [
    "def dfs(graph, node, visited=None):\n",
    "    if visited is None:\n",
    "        visited = set()\n",
    "    visited.add(node)\n",
    "    print(node)\n",
    "    for neighbor in graph[node]:\n",
    "        if neighbor not in visited:\n",
    "            dfs(graph, neighbor, visited)\n",
    "    return visited\n",
    "\n",
    "# Example usage:\n",
    "if __name__ == \"__main__\":\n",
    "    graph = {\n",
    "        'A': ['B', 'C'],\n",
    "        'B': ['D', 'E'],\n",
    "        'C': ['F'],\n",
    "        'D': [],\n",
    "        'E': ['F'],\n",
    "        'F': []\n",
    "    }\n",
    "    dfs(graph, 'A')"
   ]
  },
  {
   "cell_type": "markdown",
   "metadata": {
    "vscode": {
     "languageId": "markdown"
    }
   },
   "source": [
    "### Check Valid Tree\n",
    "There is no cycle. \n",
    "The graph is connected."
   ]
  },
  {
   "cell_type": "code",
   "execution_count": 47,
   "metadata": {},
   "outputs": [],
   "source": [
    "def valid_tree(n, edges):\n",
    "    # A valid tree must have exactly n - 1 edges.\n",
    "    if len(edges) != n - 1:\n",
    "        return False\n",
    "\n",
    "    # build undirected graph\n",
    "    graph = {i: [] for i in range(n)}\n",
    "    for u, v in edges:\n",
    "        graph[u].append(v)\n",
    "        graph[v].append(u)\n",
    "\n",
    "    visited = set()\n",
    "\n",
    "    def dfs(node, parent):\n",
    "        print(node)\n",
    "        print(visited)\n",
    "        if node in visited:\n",
    "            print(\"False\", node)\n",
    "            return False\n",
    "        visited.add(node)\n",
    "        for neighbor in graph[node]:\n",
    "            if neighbor == parent: # prevent visiting parent node\n",
    "                continue\n",
    "            if not dfs(neighbor, node):\n",
    "                return False\n",
    "        return True\n",
    "\n",
    "    # start DFS from node 0\n",
    "    if not dfs(0, -1):\n",
    "        return False\n",
    "\n",
    "    # Check if we've visited all nodes\n",
    "    return len(visited) == n\n",
    "\n"
   ]
  },
  {
   "cell_type": "code",
   "execution_count": 48,
   "metadata": {},
   "outputs": [
    {
     "name": "stdout",
     "output_type": "stream",
     "text": [
      "0\n",
      "set()\n",
      "1\n",
      "{0}\n",
      "4\n",
      "{0, 1}\n",
      "2\n",
      "{0, 1, 4}\n",
      "3\n",
      "{0, 1, 2, 4}\n",
      "True\n",
      "False\n"
     ]
    }
   ],
   "source": [
    "# Example usage\n",
    "if __name__ == \"__main__\":\n",
    "    # Example 1\n",
    "    n1 = 5\n",
    "    edges1 = [[0,1],[0,2],[0,3],[1,4]]\n",
    "    print(valid_tree(n1, edges1))  # Output: True\n",
    "\n",
    "    # Example 2\n",
    "    n2 = 5\n",
    "    edges2 = [[0,1],[1,2],[2,3],[1,3],[1,4]]\n",
    "    print(valid_tree(n2, edges2))  # Output: False"
   ]
  },
  {
   "cell_type": "markdown",
   "metadata": {},
   "source": [
    "## Divide and conquer algorithms\n",
    "\n",
    "--------------------------\n",
    "\n",
    "\n",
    "Divide and conquer is an algorithm design paradigm based on multi-branched recursion. A divide and conquer algorithm works by recursively breaking down a problem into two or more subproblems of the same or related type, until these become simple enough to be solved directly. The solutions to the subproblems are then combined to give a solution to the original problem.\n",
    "\n",
    "### Examples\n",
    "\n",
    "1. **Merge Sort**: An efficient, stable, comparison-based, divide and conquer sorting algorithm.\n",
    "2. **Quick Sort**: An efficient, in-place, comparison-based, divide and conquer sorting algorithm.\n",
    "3. **Binary Search**: A search algorithm that finds the position of a target value within a sorted array.\n",
    "\n",
    "### Steps\n",
    "\n",
    "1. **Divide**: Break the problem into smaller subproblems.\n",
    "2. **Conquer**: Solve the subproblems recursively.\n",
    "3. **Combine**: Combine the solutions of the subproblems to solve the original problem.\n",
    "\n"
   ]
  },
  {
   "cell_type": "markdown",
   "metadata": {},
   "source": [
    "### Merge Sort\n",
    "\n",
    "Merge Sort is a sorting algorithm that works by repeatedly dividing the input array into two halves, sorting each half separately, and then merging the sorted halves back together. Here's how Merge Sort works:"
   ]
  },
  {
   "cell_type": "markdown",
   "metadata": {},
   "source": [
    "### Quick Sort\n",
    "\n",
    "Quick Sort is another sorting algorithm that works by dividing the input array into two partitions, one with elements smaller than a pivot element, and another with elements larger than the pivot element. Here's how Quick Sort works:"
   ]
  },
  {
   "cell_type": "code",
   "execution_count": 95,
   "metadata": {},
   "outputs": [],
   "source": [
    "def quick_sort(arr):\n",
    "    if len(arr) <= 1:\n",
    "        return arr\n",
    "\n",
    "    pivot = arr[len(arr) // 2]\n",
    "    left = [x for x in arr if x < pivot]\n",
    "    middle = [x for x in arr if x == pivot]\n",
    "    right = [x for x in arr if x > pivot]\n",
    "\n",
    "    return quick_sort(left) + middle + quick_sort(right)"
   ]
  },
  {
   "cell_type": "code",
   "execution_count": 97,
   "metadata": {},
   "outputs": [
    {
     "data": {
      "text/plain": [
       "[1, 2, 3, 5, 6]"
      ]
     },
     "execution_count": 97,
     "metadata": {},
     "output_type": "execute_result"
    }
   ],
   "source": [
    "quick_sort([1, 2, 3, 5, 6])"
   ]
  }
 ],
 "metadata": {
  "kernelspec": {
   "display_name": "condav0",
   "language": "python",
   "name": "python3"
  },
  "language_info": {
   "codemirror_mode": {
    "name": "ipython",
    "version": 3
   },
   "file_extension": ".py",
   "mimetype": "text/x-python",
   "name": "python",
   "nbconvert_exporter": "python",
   "pygments_lexer": "ipython3",
   "version": "3.12.7"
  }
 },
 "nbformat": 4,
 "nbformat_minor": 2
}
