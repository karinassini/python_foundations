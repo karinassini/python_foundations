{
 "cells": [
  {
   "cell_type": "markdown",
   "metadata": {},
   "source": [
    "# Arrays"
   ]
  },
  {
   "cell_type": "markdown",
   "metadata": {},
   "source": [
    "### Count Number of Bad Pairs\n",
    "\n",
    "You are given a 0-indexed integer array nums. A pair of indices (i, j) is a bad pair if i < j and j - i != nums[j] - nums[i].\n",
    "\n",
    "Return the total number of bad pairs in nums.\n",
    "\n",
    " \n",
    "\n",
    "Example 1:\n",
    "\n",
    "Input: nums = [4,1,3,3]\n",
    "\n",
    "Output: 5\n",
    "\n",
    "Explanation: The pair (0, 1) is a bad pair since 1 - 0 != 1 - 4.\n",
    "\n",
    "The pair (0, 2) is a bad pair since 2 - 0 != 3 - 4, 2 != -1.\n",
    "\n",
    "The pair (0, 3) is a bad pair since 3 - 0 != 3 - 4, 3 != -1.\n",
    "\n",
    "The pair (1, 2) is a bad pair since 2 - 1 != 3 - 1, 1 != 2.\n",
    "\n",
    "The pair (2, 3) is a bad pair since 3 - 2 != 3 - 3, 1 != 0.\n",
    "\n",
    "There are a total of 5 bad pairs, so we return 5."
   ]
  },
  {
   "cell_type": "code",
   "execution_count": 57,
   "metadata": {},
   "outputs": [
    {
     "name": "stdout",
     "output_type": "stream",
     "text": [
      "{-4: 1, 0: 2, -1: 1}\n",
      "Total number of bad pairs: 5\n"
     ]
    }
   ],
   "source": [
    "def count_bad_pairs(nums):\n",
    "    # Total number of pairs = n choose 2.\n",
    "    n = len(nums)\n",
    "    total_pairs = n * (n - 1) // 2\n",
    "\n",
    "    # Count good pairs: j - i == nums[j] - nums[i] <==> (i - nums[i]) == (j - nums[j])\n",
    "    diff_count = {}\n",
    "    for i, num in enumerate(nums):\n",
    "        diff = i - num \n",
    "        diff_count[diff] = diff_count.get(diff, 0) + 1\n",
    "        # Thus, each index contributes a value diff = i - nums[i]. If two indices share the same diff, then the pair formed by these indices is good.\n",
    "\n",
    "    print(diff_count)\n",
    "    good_pairs = 0\n",
    "    for count in diff_count.values():\n",
    "        # For each group of indices with the same diff, count the pairs.\n",
    "        good_pairs += count * (count - 1) // 2\n",
    "\n",
    "    # Bad pairs are the total pairs minus the good pairs.\n",
    "    return total_pairs - good_pairs\n",
    "\n",
    "# Example usage:\n",
    "if __name__ == \"__main__\":\n",
    "    nums = [4, 1, 3, 3]\n",
    "    print(\"Total number of bad pairs:\", count_bad_pairs(nums))\n"
   ]
  },
  {
   "cell_type": "markdown",
   "metadata": {},
   "source": [
    "### XOR Queries of a Subarray"
   ]
  },
  {
   "cell_type": "code",
   "execution_count": null,
   "metadata": {},
   "outputs": [],
   "source": [
    "queries = [[0,1],[1,2],[0,3],[3,3]]"
   ]
  },
  {
   "cell_type": "code",
   "execution_count": 78,
   "metadata": {},
   "outputs": [
    {
     "name": "stdout",
     "output_type": "stream",
     "text": [
      "0 1\n",
      "1 2\n",
      "2 3\n",
      "3 4\n",
      "[0, 1, 2, 6, 14]\n",
      "XOR queries result: [2, 7, 14, 8]\n"
     ]
    }
   ],
   "source": [
    "def xorQueries(arr, queries):\n",
    "    # Precompute the prefix XOR: prefix[i] is XOR of arr[0] to arr[i-1].\n",
    "    n = len(arr)\n",
    "    prefix = [0] * (n + 1)\n",
    "    for i in range(n):\n",
    "        print(i, i+1)\n",
    "        prefix[i + 1] = prefix[i] ^ arr[i]\n",
    "    \n",
    "    # For each query [left, right], the result is prefix[right+1] XOR prefix[left].\n",
    "    print(prefix)\n",
    "    answer = []\n",
    "    for left, right in queries:\n",
    "        answer.append(prefix[right + 1] ^ prefix[left])\n",
    "    return answer\n",
    "\n",
    "# Example usage:\n",
    "if __name__ == \"__main__\":\n",
    "    arr = [1, 3, 4, 8]\n",
    "    queries = [[0, 1], [1, 2], [0, 3], [3, 3]]\n",
    "    print(\"XOR queries result:\", xorQueries(arr, queries))\n",
    "    # Expected output: [2, 7, 14, 8]"
   ]
  },
  {
   "cell_type": "markdown",
   "metadata": {},
   "source": [
    "### Maximum and Minimum Sums of at Most Size K Subsequences Medium\n",
    "\n",
    "Here s is the size of our subsequence, n is the size of nums and n−i−1 are the number of items larger than the current number in our sorted array (it's just the length of the array minus the current index). This formula is the entire solution to this problem, it computes the total contribution of each number for every size but only for the minimum. Flip it and you can compute all contributions for the maximum. However it's a little slow, given it operates in O(nk) time.\n",
    "\n",
    "We optimize our solution with dynamic programming, by working backwards. We can only make 1 subsequence with the last number as the minimum and the first number as the maximum, so we start with quantity = 1 in our code. Then for each subsequent number we double the number of subsequences we can make up until k.\n",
    "\n",
    "Let's revisit our code now. total_sums += quantity * (nums[i] + nums[-i - 1]) is adding the contribution made from the maximum and minimum number. Then quantity = 2 * quantity is doing this doubling of subsequences with our given number as the min/max but after i exceeds k we have to adjust for the fact that we can't make subsequences longer than k and sutract all subsequences longer than k from the quantity hence the - comb(i, k - 1).\n",
    " "
   ]
  },
  {
   "cell_type": "code",
   "execution_count": 190,
   "metadata": {},
   "outputs": [
    {
     "name": "stdout",
     "output_type": "stream",
     "text": [
      "(1, 2)\n",
      "(1, 3)\n",
      "(1, 4)\n",
      "(2, 3)\n",
      "(2, 4)\n",
      "(3, 4)\n"
     ]
    }
   ],
   "source": [
    "import itertools\n",
    "\n",
    "for sub in itertools.combinations([1,2,3,4], 2):\n",
    "    print(sub)"
   ]
  },
  {
   "cell_type": "code",
   "execution_count": 191,
   "metadata": {},
   "outputs": [
    {
     "data": {
      "text/plain": [
       "2"
      ]
     },
     "execution_count": 191,
     "metadata": {},
     "output_type": "execute_result"
    }
   ],
   "source": [
    "import math\n",
    "math.comb(2, 1)"
   ]
  },
  {
   "cell_type": "code",
   "execution_count": 151,
   "metadata": {},
   "outputs": [
    {
     "name": "stdout",
     "output_type": "stream",
     "text": [
      "3\n",
      "2\n",
      "1\n"
     ]
    },
    {
     "data": {
      "text/plain": [
       "6"
      ]
     },
     "execution_count": 151,
     "metadata": {},
     "output_type": "execute_result"
    }
   ],
   "source": [
    "# C(n,k)= n! / k!(n−k)!\n",
    "\n",
    "nums = [1,2,3]\n",
    "k = 2\n",
    "\n",
    "def factorial_recursive(n):\n",
    "    if n == 0:\n",
    "        return 1\n",
    "    print(n)\n",
    "    return n * factorial_recursive(n - 1)\n",
    "\n",
    "factorial_recursive(3)\n",
    "#factorial_recursive(3) / factorial_recursive(k) * (factorial_recursive(3-k))"
   ]
  },
  {
   "cell_type": "code",
   "execution_count": 192,
   "metadata": {},
   "outputs": [
    {
     "name": "stdout",
     "output_type": "stream",
     "text": [
      "28\n"
     ]
    }
   ],
   "source": [
    "MOD = 10 ** 9 + 7  \n",
    "  \n",
    "def max_min_sums(nums, k):  \n",
    "    n = len(nums)  \n",
    "    nums.sort()  # Sort the array  \n",
    "  \n",
    "    # Precompute factorials and inverse factorials  \n",
    "    maxN = n + 1  \n",
    "    fac = [1] * maxN  \n",
    "    ifac = [1] * maxN  \n",
    "    for i in range(1, maxN):  \n",
    "        fac[i] = fac[i - 1] * i % MOD  \n",
    "    ifac[-1] = pow(fac[-1], MOD - 2, MOD)  \n",
    "    for i in range(maxN - 2, -1, -1):  \n",
    "        ifac[i] = ifac[i + 1] * (i + 1) % MOD  \n",
    "  \n",
    "    def comb(n, r):  \n",
    "        if r < 0 or r > n:  \n",
    "            return 0  \n",
    "        return fac[n] * ifac[r] % MOD * ifac[n - r] % MOD  \n",
    "  \n",
    "    # Precompute cumulative combinations  \n",
    "    cum_comb = [0] * maxN  \n",
    "    for r in range(maxN):  \n",
    "        cum_comb[r] = comb(n - 1, r)  \n",
    "  \n",
    "    # Calculate cumulative sums for combinations up to k  \n",
    "    sum_cum_comb = [0] * maxN  \n",
    "    for i in range(1, maxN):  \n",
    "        sum_cum_comb[i] = (sum_cum_comb[i - 1] + cum_comb[i - 1]) % MOD  \n",
    "  \n",
    "    total_max = 0  \n",
    "    total_min = 0  \n",
    "    for i in range(n):  \n",
    "        # Contribution as maximum  \n",
    "        count_max = sum_cum_comb[min(i + 1, k)]  \n",
    "        total_max = (total_max + nums[i] * count_max) % MOD  \n",
    "  \n",
    "        # Contribution as minimum  \n",
    "        count_min = sum_cum_comb[min(n - i, k)]  \n",
    "        total_min = (total_min + nums[i] * count_min) % MOD  \n",
    "  \n",
    "    return (total_max + total_min) % MOD  \n",
    "  \n",
    "# Example usage:  \n",
    "nums = [3, 1, 2]  \n",
    "k = 2  \n",
    "print(max_min_sums(nums, k))  # Output: 24  "
   ]
  },
  {
   "cell_type": "code",
   "execution_count": 90,
   "metadata": {},
   "outputs": [],
   "source": [
    "from math import comb\n",
    "\n",
    "\n",
    "def minMaxSums(nums, k: int) -> int:\n",
    "    nums.sort()\n",
    "    total_sums = 0\n",
    "    quantity = 1\n",
    "\n",
    "    print(nums)\n",
    "    \n",
    "    for i in range(len(nums)):\n",
    "        print(nums[i], nums[-i - 1])\n",
    "        total_sums += quantity * (nums[i] + nums[-i - 1])\n",
    "        quantity = 2 * quantity - comb(i, k - 1)\n",
    "\n",
    "    return total_sums % (10 ** 9 + 7)"
   ]
  },
  {
   "cell_type": "code",
   "execution_count": 91,
   "metadata": {},
   "outputs": [
    {
     "name": "stdout",
     "output_type": "stream",
     "text": [
      "[1, 2, 3]\n",
      "1 3\n",
      "2 2\n",
      "3 1\n"
     ]
    },
    {
     "data": {
      "text/plain": [
       "24"
      ]
     },
     "execution_count": 91,
     "metadata": {},
     "output_type": "execute_result"
    }
   ],
   "source": [
    "nums = [1,2,3]\n",
    "k = 2\n",
    "\n",
    "minMaxSums(nums, k)"
   ]
  },
  {
   "cell_type": "markdown",
   "metadata": {},
   "source": [
    "## two_sum"
   ]
  },
  {
   "cell_type": "code",
   "execution_count": 1,
   "metadata": {},
   "outputs": [],
   "source": [
    "def two_sum(nums, target):\n",
    "    lookup = {}\n",
    "    for i, num in enumerate(nums):\n",
    "        if target - num in lookup:\n",
    "            return [lookup[target - num], i]\n",
    "        lookup[num] = i"
   ]
  },
  {
   "cell_type": "code",
   "execution_count": 2,
   "metadata": {},
   "outputs": [
    {
     "data": {
      "text/plain": [
       "[0, 1]"
      ]
     },
     "execution_count": 2,
     "metadata": {},
     "output_type": "execute_result"
    }
   ],
   "source": [
    "two_sum([2,7,11,15], 9)"
   ]
  },
  {
   "cell_type": "markdown",
   "metadata": {},
   "source": [
    "## Container With Most Water\n",
    "\n",
    "You are given an integer array height of length n. There are n vertical lines drawn such that the two endpoints of the ith line are (i, 0) and (i, height[i]).\n",
    "\n",
    "Find two lines that together with the x-axis form a container, such that the container contains the most water.\n",
    "\n",
    "Return the maximum amount of water a container can store.\n",
    "\n",
    "Notice that you may not slant the container.\n",
    "\n",
    "\n"
   ]
  },
  {
   "cell_type": "code",
   "execution_count": 5,
   "metadata": {},
   "outputs": [
    {
     "name": "stdout",
     "output_type": "stream",
     "text": [
      "49\n"
     ]
    }
   ],
   "source": [
    "def maxArea(height):\n",
    "    left, right = 0, len(height) - 1\n",
    "    answer = 0\n",
    "    while left < right:\n",
    "        area = (right - left) * min(height[left], height[right])\n",
    "        answer = max(answer, area)\n",
    "        if height[left] < height[right]:\n",
    "            left += 1\n",
    "        else:\n",
    "            right -= 1\n",
    "    return answer\n",
    "\n",
    "print(maxArea([1,8,6,2,5,4,8,3, 7]))"
   ]
  },
  {
   "cell_type": "code",
   "execution_count": 100,
   "metadata": {},
   "outputs": [],
   "source": [
    "n = 3\n",
    "x = 4"
   ]
  },
  {
   "cell_type": "markdown",
   "metadata": {},
   "source": [
    "## Merge Intervals\n",
    "\n",
    "\n",
    "Given an array of intervals where intervals[i] = [starti, endi], merge all overlapping intervals, and return an array of the non-overlapping intervals that cover all the intervals in the input.\n",
    "\n",
    "\n",
    "Example 1:\n",
    "\n",
    "Input: intervals = [[1,3],[2,6],[8,10],[15,18]]\n",
    "Output: [[1,6],[8,10],[15,18]]\n",
    "Explanation: Since intervals [1,3] and [2,6] overlap, merge them into [1,6]."
   ]
  },
  {
   "cell_type": "code",
   "execution_count": 178,
   "metadata": {},
   "outputs": [
    {
     "name": "stdout",
     "output_type": "stream",
     "text": [
      "Merged intervals: [[1, 6], [8, 10], [15, 18]]\n"
     ]
    }
   ],
   "source": [
    "def merge_intervals(intervals):\n",
    "    \"\"\"\n",
    "    Merges all overlapping intervals and returns the non-overlapping intervals.\n",
    "    1) Sort intervals by start value.\n",
    "    2) If the current interval overlaps with the last one in the merged list, update the end.\n",
    "    3) If they don't overlap, add the current interval to the result.\n",
    "    \"\"\"\n",
    "    if not intervals:\n",
    "        return []\n",
    "\n",
    "    # Sort by starting time\n",
    "    intervals.sort(key=lambda x: x[0])\n",
    "    merged = [intervals[0]]\n",
    "\n",
    "    for i in range(1, len(intervals)):\n",
    "        # Compare current interval with the last merged interval\n",
    "        if intervals[i][0] <= merged[-1][1]:\n",
    "            # Overlaps, so merge\n",
    "            merged[-1][1] = max(merged[-1][1], intervals[i][1])\n",
    "        else:\n",
    "            # No overlap, so add to merged list\n",
    "            merged.append(intervals[i])\n",
    "\n",
    "    return merged\n",
    "\n",
    "# Example usage:\n",
    "if __name__ == \"__main__\":\n",
    "    intervals = [[1,3],[2,6],[8,10],[15,18]]\n",
    "    print(\"Merged intervals:\", merge_intervals(intervals))\n",
    "    # Expected output: [[1,6],[8,10],[15,18]]"
   ]
  },
  {
   "cell_type": "code",
   "execution_count": 177,
   "metadata": {},
   "outputs": [
    {
     "data": {
      "text/plain": [
       "[[1, 6], [2, 10]]"
      ]
     },
     "execution_count": 177,
     "metadata": {},
     "output_type": "execute_result"
    }
   ],
   "source": [
    "stack"
   ]
  },
  {
   "cell_type": "markdown",
   "metadata": {},
   "source": [
    "## 3Sum\n",
    "\n",
    "Given an integer array nums, return all the triplets [nums[i], nums[j], nums[k]] such that i != j, i != k, and j != k, and nums[i] + nums[j] + nums[k] == 0.\n",
    "\n",
    "Notice that the solution set must not contain duplicate triplets.\n",
    "\n",
    "\n",
    "To solve the 3Sum problem, you can use the following code:\n",
    "\n",
    "```python\n",
    "def three_sum(nums):\n",
    "    nums.sort()\n",
    "    result = []\n",
    "    for i in range(len(nums) - 2):\n",
    "        if i > 0 and nums[i] == nums[i - 1]:\n",
    "            continue\n",
    "        left, right = i + 1, len(nums) - 1\n",
    "        while left < right:\n",
    "            total = nums[i] + nums[left] + nums[right]\n",
    "            if total < 0:\n",
    "                left += 1\n",
    "            elif total > 0:\n",
    "                right -= 1\n",
    "            else:\n",
    "                result.append([nums[i], nums[left], nums[right]])\n",
    "                while left < right and nums[left] == nums[left + 1]:\n",
    "                    left += 1\n",
    "                while left < right and nums[right] == nums[right - 1]:\n",
    "                    right -= 1\n",
    "                left += 1\n",
    "                right -= 1\n",
    "    return result\n",
    "\n",
    "print(three_sum([-1, 0, 1, 2, -1, -4]))\n",
    "```"
   ]
  },
  {
   "cell_type": "markdown",
   "metadata": {},
   "source": [
    "## 3Sum Closest\n",
    "Medium\n",
    "\n",
    "Topics\n",
    "Companies\n",
    "Given an integer array nums of length n and an integer target, find three integers in nums such that the sum is closest to target.\n",
    "\n",
    "Return the sum of the three integers.\n",
    "\n",
    "You may assume that each input would have exactly one solution."
   ]
  },
  {
   "cell_type": "code",
   "execution_count": 31,
   "metadata": {},
   "outputs": [],
   "source": [
    "nums = [-1,2,1,-4]\n",
    "target = 1"
   ]
  },
  {
   "cell_type": "code",
   "execution_count": 35,
   "metadata": {},
   "outputs": [
    {
     "name": "stdout",
     "output_type": "stream",
     "text": [
      "2\n"
     ]
    }
   ],
   "source": [
    "def three_sum_closest(nums, target):\n",
    "    nums.sort()\n",
    "    closest_sum = float('inf')\n",
    "    for i in range(len(nums) - 2):\n",
    "        left, right = i + 1, len(nums) - 1\n",
    "        while left < right:\n",
    "            current_sum = nums[i] + nums[left] + nums[right]\n",
    "            if abs(current_sum - target) < abs(closest_sum - target):\n",
    "                closest_sum = current_sum\n",
    "            if current_sum < target:\n",
    "                left += 1\n",
    "            elif current_sum > target:\n",
    "                right -= 1\n",
    "            else:\n",
    "                return current_sum\n",
    "    return closest_sum\n",
    "\n",
    "print(three_sum_closest(nums, target))"
   ]
  },
  {
   "cell_type": "markdown",
   "metadata": {},
   "source": [
    "## 4Sum\n",
    "Given an array nums of n integers, return an array of all the unique quadruplets [nums[a], nums[b], nums[c], nums[d]] such that:\n",
    "\n",
    "0 <= a, b, c, d < n\n",
    "a, b, c, and d are distinct.\n",
    "nums[a] + nums[b] + nums[c] + nums[d] == target\n",
    "You may return the answer in any order.\n",
    "\n",
    "To solve the 4Sum problem, you can use the following code:\n",
    "```python\n",
    "def four_sum(nums, target):\n",
    "    nums.sort()\n",
    "    result = []\n",
    "    for i in range(len(nums) - 3):\n",
    "        if i > 0 and nums[i] == nums[i - 1]:\n",
    "            continue\n",
    "        for j in range(i + 1, len(nums) - 2):\n",
    "            if j > i + 1 and nums[j] == nums[j - 1]:\n",
    "                continue\n",
    "            left, right = j + 1, len(nums) - 1\n",
    "            while left < right:\n",
    "                total = nums[i] + nums[j] + nums[left] + nums[right]\n",
    "                if total < target:\n",
    "                    left += 1\n",
    "                elif total > target:\n",
    "                    right -= 1\n",
    "                else:\n",
    "                    result.append([nums[i], nums[j], nums[left], nums[right]])\n",
    "                    while left < right and nums[left] == nums[left + 1]:\n",
    "                        left += 1\n",
    "                    while left < right and nums[right] == nums[right - 1]:\n",
    "                        right -= 1\n",
    "                    left += 1\n",
    "                    right -= 1\n",
    "    return result\n",
    "\n",
    "print(four_sum(nums, target))\n",
    "```"
   ]
  },
  {
   "cell_type": "markdown",
   "metadata": {},
   "source": [
    "## --Remove Duplicates from Sorted Array"
   ]
  },
  {
   "cell_type": "code",
   "execution_count": 11,
   "metadata": {},
   "outputs": [
    {
     "name": "stdout",
     "output_type": "stream",
     "text": [
      "6\n",
      "[0, 1, 2, 3, 4, '_']\n"
     ]
    }
   ],
   "source": [
    "def remove_duplicates(nums):\n",
    "    if not nums:\n",
    "        return 0\n",
    "\n",
    "    unique_index = 0\n",
    "\n",
    "    for i in range(1, len(nums)):\n",
    "        if nums[i] != nums[unique_index]:\n",
    "            unique_index += 1\n",
    "            nums[unique_index] = nums[i]\n",
    "\n",
    "    return unique_index + 1\n",
    "\n",
    "# Example usage\n",
    "nums = [0, 1, 2, 3, 4, '_', '_', '_', '_', '_']\n",
    "unique_count = remove_duplicates(nums)\n",
    "print(unique_count)  # Output: 5\n",
    "print(nums[:unique_count])  # Output: [0, 1, 2, 3, 4]"
   ]
  },
  {
   "cell_type": "code",
   "execution_count": 16,
   "metadata": {},
   "outputs": [
    {
     "data": {
      "text/plain": [
       "(5, [0, 1, 2, 3, 4, '_', '_', '_', '_', '_'])"
      ]
     },
     "execution_count": 16,
     "metadata": {},
     "output_type": "execute_result"
    }
   ],
   "source": [
    "nums = [0,0,1,1,1,2,2,3,3,4]\n",
    "\n",
    "for i, num in enumerate(nums):\n",
    "    if isinstance(i, int):\n",
    "        if nums.count(num) > 1:\n",
    "            nums.pop(i)\n",
    "            nums.append(\"_\")\n",
    "\n",
    "len(set(nums)) - 1, nums\n",
    "\n"
   ]
  },
  {
   "cell_type": "markdown",
   "metadata": {},
   "source": [
    "## Next Permutation\n",
    "\n",
    "A permutation of an array of integers is an arrangement of its members into a sequence or linear order.\n",
    "\n",
    "For example, for arr = [1,2,3], the following are all the permutations of arr: [1,2,3], [1,3,2], [2, 1, 3], [2, 3, 1], [3,1,2], [3,2,1].\n",
    "The next permutation of an array of integers is the next lexicographically greater permutation of its integer. More formally, if all the permutations of the array are sorted in one container according to their lexicographical order, then the next permutation of that array is the permutation that follows it in the sorted container. If such arrangement is not possible, the array must be rearranged as the lowest possible order (i.e., sorted in ascending order).\n",
    "\n",
    "\n",
    "Given an array of integers nums, find the next permutation of nums.\n",
    "\n",
    "The replacement must be in place and use only constant extra memory.\n",
    "\n"
   ]
  },
  {
   "cell_type": "code",
   "execution_count": 15,
   "metadata": {},
   "outputs": [
    {
     "name": "stdout",
     "output_type": "stream",
     "text": [
      "[2, 1, 3]\n"
     ]
    }
   ],
   "source": [
    "def next_permutation(nums):\n",
    "    # Find the first index 'i' from the end where nums[i] < nums[i+1]\n",
    "    i = len(nums) - 2\n",
    "    while i >= 0 and nums[i] >= nums[i + 1]:\n",
    "        i -= 1\n",
    "\n",
    "    if i >= 0:\n",
    "        # Find index 'j' such that nums[j] is the next larger element than nums[i]\n",
    "        j = len(nums) - 1\n",
    "        while nums[j] <= nums[i]:\n",
    "            j -= 1\n",
    "        # Swap them\n",
    "        nums[i], nums[j] = nums[j], nums[i]\n",
    "\n",
    "    # Reverse the subarray from i+1 to the end in place using two pointers\n",
    "    left, right = i + 1, len(nums) - 1\n",
    "    while left < right:\n",
    "        nums[left], nums[right] = nums[right], nums[left]\n",
    "        left += 1\n",
    "        right -= 1\n",
    "\n",
    "# Example usage\n",
    "nums = [1, 3, 2]\n",
    "next_permutation(nums)\n",
    "print(nums)  # Expected Output: [2, 1, 3]"
   ]
  },
  {
   "cell_type": "code",
   "execution_count": 14,
   "metadata": {},
   "outputs": [
    {
     "data": {
      "text/plain": [
       "[1, 3, 2]"
      ]
     },
     "execution_count": 14,
     "metadata": {},
     "output_type": "execute_result"
    }
   ],
   "source": [
    "nums = [1,2,3]\n",
    "\n",
    "if not nums[1:] == sorted(nums[1:], reverse=True):\n",
    "    nums[1:] = sorted(nums[1:], reverse=True)\n",
    "elif max(nums) != nums[0]:\n",
    "    max_num = max(nums)\n",
    "    nums.remove(max_num)\n",
    "    sorted(nums, reverse=False)\n",
    "    nums.insert(0, max_num)\n",
    "else:\n",
    "    min_num = min(nums)\n",
    "    nums.remove(min_num)\n",
    "    nums = [3,2]\n",
    "    print(nums)\n",
    "    sorted(nums, reverse=False)\n",
    "    nums.insert(0, min_num)\n",
    "\n",
    "nums"
   ]
  },
  {
   "cell_type": "code",
   "execution_count": 13,
   "metadata": {},
   "outputs": [
    {
     "data": {
      "text/plain": [
       "[2, 3]"
      ]
     },
     "execution_count": 13,
     "metadata": {},
     "output_type": "execute_result"
    }
   ],
   "source": [
    "nums = [3,2]\n",
    "sorted(nums, reverse=False)"
   ]
  },
  {
   "cell_type": "markdown",
   "metadata": {},
   "source": [
    "## Find First and Last Position of Element in Sorted Array\n",
    "\n",
    "\n",
    "Given an array of integers nums sorted in non-decreasing order, find the starting and ending position of a given target value.\n",
    "\n",
    "If target is not found in the array, return [-1, -1].\n",
    "\n",
    "You must write an algorithm with O(log n) runtime complexity."
   ]
  },
  {
   "cell_type": "code",
   "execution_count": 33,
   "metadata": {},
   "outputs": [
    {
     "name": "stdout",
     "output_type": "stream",
     "text": [
      "3 3\n",
      "3 2\n",
      "[3, 4]\n"
     ]
    }
   ],
   "source": [
    "def search_range(nums, target):\n",
    "    def find_bound(is_first):\n",
    "        left, right = 0, len(nums) - 1\n",
    "        bound = -1\n",
    "        while left <= right:\n",
    "            mid = (left + right) // 2\n",
    "            if nums[mid] == target:\n",
    "                bound = mid\n",
    "                if is_first:\n",
    "                    right = mid - 1\n",
    "                else:\n",
    "                    left = mid + 1\n",
    "            elif nums[mid] < target:\n",
    "                left = mid + 1\n",
    "            else:\n",
    "                right = mid - 1\n",
    "        return bound\n",
    "\n",
    "    left_bound = find_bound(True)\n",
    "    if left_bound == -1:\n",
    "        return [-1, -1]\n",
    "    right_bound = find_bound(False)\n",
    "    return [left_bound, right_bound]\n",
    "\n",
    "result = search_range([5,7,7,8,8,10], target)\n",
    "print(result)"
   ]
  },
  {
   "cell_type": "code",
   "execution_count": 28,
   "metadata": {},
   "outputs": [
    {
     "name": "stdout",
     "output_type": "stream",
     "text": [
      "[-1, -1]\n"
     ]
    }
   ],
   "source": [
    "output = [-1, -1]\n",
    "nums = []\n",
    "\n",
    "\n",
    "left, right = 0, 0\n",
    "target = 8\n",
    "while right < len(nums) - 1:\n",
    "    if nums[left] == target:\n",
    "        right += 1\n",
    "        output[0] = left\n",
    "        print(left)\n",
    "    else:\n",
    "        left += 1\n",
    "        right += 1\n",
    "    if len(output) >  0 and nums[right] == target:\n",
    "        output[1] = right\n",
    "\n",
    "\n",
    "print(output)\n"
   ]
  },
  {
   "cell_type": "code",
   "execution_count": 35,
   "metadata": {},
   "outputs": [
    {
     "name": "stdout",
     "output_type": "stream",
     "text": [
      "[[0, 0, 0, 0, 0, 0, 0, 0, 0], [0, 0, 0, 0, 0, 0, 0, 0, 0], [0, 0, 0, 0, 0, 0, 0, 0, 0], [0, 0, 0, 0, 0, 0, 0, 0, 0], [0, 0, 0, 0, 0, 0, 0, 0, 0], [0, 0, 0, 0, 0, 0, 0, 0, 0], [0, 0, 0, 0, 0, 0, 0, 0, 0], [0, 0, 0, 0, 0, 0, 0, 0, 0], [0, 0, 0, 0, 0, 0, 0, 0, 0]]\n"
     ]
    }
   ],
   "source": [
    "matrix = [[0 for _ in range(9)] for _ in range(9)]\n",
    "print(matrix)"
   ]
  },
  {
   "cell_type": "code",
   "execution_count": 42,
   "metadata": {},
   "outputs": [
    {
     "name": "stdout",
     "output_type": "stream",
     "text": [
      "True\n"
     ]
    }
   ],
   "source": [
    "def is_valid_sudoku(board):\n",
    "    # Check rows\n",
    "    for row in board:\n",
    "        seen = set()\n",
    "        for num in row:\n",
    "            if num != '.':\n",
    "                if num in seen:\n",
    "                    return False\n",
    "                seen.add(num)\n",
    "\n",
    "    # Check columns\n",
    "    for col in range(9):\n",
    "        seen = set()\n",
    "        for row in range(9):\n",
    "            num = board[row][col]\n",
    "            if num != '.':\n",
    "                if num in seen:\n",
    "                    return False\n",
    "                seen.add(num)\n",
    "\n",
    "    # Check each 3x3 sub-box\n",
    "    for sub_row in range(0, 9, 3):\n",
    "        for sub_col in range(0, 9, 3):\n",
    "            seen = set()\n",
    "            for r in range(sub_row, sub_row + 3):\n",
    "                for c in range(sub_col, sub_col + 3):\n",
    "                    num = board[r][c]\n",
    "                    if num != '.':\n",
    "                        if num in seen:\n",
    "                            return False\n",
    "                        seen.add(num)\n",
    "\n",
    "    return True\n",
    "\n",
    "\n",
    "board = [[\"5\",\"3\",\".\",\".\",\"7\",\".\",\".\",\".\",\".\"]\n",
    ",[\"6\",\".\",\".\",\"1\",\"9\",\"5\",\".\",\".\",\".\"]\n",
    ",[\".\",\"9\",\"8\",\".\",\".\",\".\",\".\",\"6\",\".\"]\n",
    ",[\"8\",\".\",\".\",\".\",\"6\",\".\",\".\",\".\",\"3\"]\n",
    ",[\"4\",\".\",\".\",\"8\",\".\",\"3\",\".\",\".\",\"1\"]\n",
    ",[\"7\",\".\",\".\",\".\",\"2\",\".\",\".\",\".\",\"6\"]\n",
    ",[\".\",\"6\",\".\",\".\",\".\",\".\",\"2\",\"8\",\".\"]\n",
    ",[\".\",\".\",\".\",\"4\",\"1\",\"9\",\".\",\".\",\"5\"]\n",
    ",[\".\",\".\",\".\",\".\",\"8\",\".\",\".\",\"7\",\"9\"]]\n",
    "\n",
    "print(is_valid_sudoku(board))"
   ]
  },
  {
   "cell_type": "code",
   "execution_count": 13,
   "metadata": {},
   "outputs": [
    {
     "name": "stdout",
     "output_type": "stream",
     "text": [
      "[[0, 30], [5, 10], [15, 20]]\n",
      "0\n",
      "30\n",
      "1\n"
     ]
    }
   ],
   "source": [
    "\n",
    "\n",
    "intervals.sort(key=lambda x: x[0])\n",
    "\n",
    "print(intervals)\n",
    "\n",
    "for i in range(len(intervals) - 1):\n",
    "    print(i)\n",
    "    if intervals[i][1] > intervals[i+1][0]:\n",
    "        print(intervals[i][1])\n"
   ]
  },
  {
   "cell_type": "markdown",
   "metadata": {},
   "source": [
    "## Find the Maximum Length of Valid Subsequence II\n",
    "\n",
    "You are given an integer array nums and a positive integer k. subsequence sub of nums with length x is called valid if it satisfies:\n",
    "\n",
    "(sub[0] + sub[1]) % k == (sub[1] + sub[2]) % k == ... == (sub[x - 2] + sub[x - 1]) % k.\n",
    "Return the length of the longest valid subsequence of nums."
   ]
  },
  {
   "cell_type": "code",
   "execution_count": 149,
   "metadata": {},
   "outputs": [
    {
     "name": "stdout",
     "output_type": "stream",
     "text": [
      "0 1\n",
      "1 2\n",
      "2 3\n",
      "3 4\n",
      "4 5\n"
     ]
    }
   ],
   "source": [
    "nums = [1,4,2,3,1,4]\n",
    "k = 3\n",
    "count = {}\n",
    "\n",
    "for i in range(len(nums)-1):\n",
    "    print(i, i+1)\n",
    "    count[(nums[i] + nums[i+ 1]) % k] = count.get((nums[i] + nums[i+ 1]) % k, 0) + 1\n",
    "\n"
   ]
  },
  {
   "cell_type": "code",
   "execution_count": 150,
   "metadata": {},
   "outputs": [
    {
     "data": {
      "text/plain": [
       "{2: 3, 0: 1, 1: 1}"
      ]
     },
     "execution_count": 150,
     "metadata": {},
     "output_type": "execute_result"
    }
   ],
   "source": [
    "count"
   ]
  },
  {
   "cell_type": "markdown",
   "metadata": {},
   "source": [
    "## Missing ranges\n",
    "\n",
    "A number x is considered missing if x is in the range [lower, upper] and x is not in nums."
   ]
  },
  {
   "cell_type": "code",
   "execution_count": 186,
   "metadata": {},
   "outputs": [],
   "source": [
    "def findMissingRanges(nums, lower, upper):\n",
    "    \"\"\"\n",
    "    Given an inclusive range [lower, upper] and a sorted unique integer array nums,\n",
    "    returns the shortest sorted list of ranges that exactly covers all the missing numbers.\n",
    "    \n",
    "    Approach:\n",
    "      1. Set a 'prev' pointer to lower - 1.\n",
    "      2. Append upper+1 to the end of nums to handle the gap between the last element and upper.\n",
    "      3. For each current number in nums (plus the appended upper+1):\n",
    "           - If there's a gap between prev and current (i.e. curr - prev >= 2), then\n",
    "             the missing range is from prev+1 to curr-1. Format this range accordingly.\n",
    "           - Update prev = current.\n",
    "      4. Return the list of missing ranges.\n",
    "    \"\"\"\n",
    "    missing = []\n",
    "    prev = lower - 1\n",
    "    for curr in nums + [upper + 1]:\n",
    "        if curr - prev >= 2:\n",
    "            missing.append([prev + 1, curr - 1])\n",
    "        prev = curr\n",
    "    return missing"
   ]
  },
  {
   "cell_type": "code",
   "execution_count": 187,
   "metadata": {},
   "outputs": [
    {
     "name": "stdout",
     "output_type": "stream",
     "text": [
      "Missing Ranges: [[2, 2], [4, 49], [51, 74], [76, 99]]\n"
     ]
    }
   ],
   "source": [
    "# Example 1:\n",
    "nums = [0, 1, 3, 50, 75]\n",
    "lower = 0\n",
    "upper = 99\n",
    "# Missing numbers and ranges:\n",
    "#   2\n",
    "#   4->49\n",
    "#   51->74\n",
    "#   76->99\n",
    "print(\"Missing Ranges:\", findMissingRanges(nums, lower, upper))"
   ]
  },
  {
   "cell_type": "code",
   "execution_count": null,
   "metadata": {},
   "outputs": [],
   "source": []
  },
  {
   "cell_type": "code",
   "execution_count": null,
   "metadata": {},
   "outputs": [],
   "source": [
    "def find_subarrays_intervals(A):\n",
    "    \"\"\"\n",
    "    Given an array A of N integers, finds all subarrays (as [start, end] indices, 1-indexed)\n",
    "    such that the average of the subarray is greater than the average of the remaining elements.\n",
    "    \n",
    "    For a subarray A[i...j] (0-indexed) with length L = j - i + 1 and sum S,\n",
    "    and total sum T over N elements:\n",
    "      - If L < N, then we require:  S / L > (T - S) / (N - L)\n",
    "        This is equivalent to: S * N > T * L   (using strict inequality)\n",
    "      - If L == N (i.e. the entire array), include it by default.\n",
    "    \n",
    "    Returns the list of intervals [start, end] (1-indexed) in sorted order (by start then end).\n",
    "    \"\"\"\n",
    "    N = len(A)\n",
    "    if N == 0:\n",
    "        return []\n",
    "    \n",
    "    total = sum(A)\n",
    "    # Build prefix sum array: prefix[i+1] = sum(A[0...i])\n",
    "    prefix = [0] * (N + 1)\n",
    "    for i in range(N):\n",
    "        prefix[i+1] = prefix[i] + A[i]\n",
    "    \n",
    "    intervals = []\n",
    "    for i in range(N):\n",
    "        for j in range(i, N):\n",
    "            L = j - i + 1\n",
    "            S = prefix[j+1] - prefix[i]\n",
    "            # For the entire array, include by default.\n",
    "            if L == N:\n",
    "                intervals.append([i+1, j+1])\n",
    "            else:\n",
    "                # Check condition: S * N > total * L\n",
    "                if S * N > total * L:\n",
    "                    intervals.append([i+1, j+1])\n",
    "    # The intervals are generated in lexicographical order by (i, j).\n",
    "    return intervals\n",
    "\n",
    "\n",
    "# Example usage:\n",
    "if __name__ == \"__main__\":\n",
    "    A = [3, 4, 2]  # Given array\n",
    "    result = find_subarrays_intervals(A)\n",
    "    print(\"Subarrays with average greater than remaining:\")\n",
    "    # Expected output: [[1, 2], [1, 3], [2, 2]]\n",
    "    print(result)"
   ]
  },
  {
   "cell_type": "code",
   "execution_count": 194,
   "metadata": {},
   "outputs": [
    {
     "name": "stdout",
     "output_type": "stream",
     "text": [
      "0 0\n",
      "1 2\n",
      "2 2\n",
      "3 4\n",
      "2\n"
     ]
    }
   ],
   "source": [
    "def jump(nums: list[int]) -> int:\n",
    "    n = len(nums)\n",
    "    jumps = 0        # number of jumps made\n",
    "    current_end = 0  # end of current jump's range\n",
    "    farthest = 0     # farthest index reachable\n",
    "    \n",
    "    # We iterate until the second last element because once we reach or pass it, \n",
    "    # we know that we have reached the end.\n",
    "    for i in range(n - 1):\n",
    "        farthest = max(farthest, i + nums[i])\n",
    "        print(i, current_end)\n",
    "        if i == current_end:  # reached the end of the current jump's range\n",
    "            jumps += 1\n",
    "            current_end = farthest\n",
    "    return jumps\n",
    "\n",
    "# Example usage:\n",
    "if __name__ == \"__main__\":\n",
    "    nums = [2, 3, 1, 1, 4]\n",
    "    print(jump(nums))  # Expected output: 2"
   ]
  },
  {
   "cell_type": "code",
   "execution_count": 195,
   "metadata": {},
   "outputs": [
    {
     "name": "stdout",
     "output_type": "stream",
     "text": [
      "1 0\n",
      "-1 0\n",
      "0 1\n",
      "1 0\n",
      "-1 0\n",
      "0 1\n",
      "1 0\n",
      "1 0\n",
      "1 0\n",
      "-1 0\n",
      "0 1\n",
      "0 -1\n",
      "1 0\n",
      "True\n"
     ]
    }
   ],
   "source": [
    "def exist(board: list[list[str]], word: str) -> bool:\n",
    "    if not board or not board[0]:\n",
    "        return False\n",
    "\n",
    "    rows, cols = len(board), len(board[0])\n",
    "    \n",
    "    def dfs(i: int, j: int, pos: int) -> bool:\n",
    "        # If all characters are found\n",
    "        if pos == len(word):\n",
    "            return True\n",
    "        # Out-of-bounds or current cell doesn't match the current word character\n",
    "        if i < 0 or i >= rows or j < 0 or j >= cols or board[i][j] != word[pos]:\n",
    "            return False\n",
    "        \n",
    "        # Mark the current cell as visited by temporary replacing the value\n",
    "        temp = board[i][j]\n",
    "        board[i][j] = '#'\n",
    "        \n",
    "        # Explore all four directions: down, up, right, left\n",
    "        for di, dj in [(1, 0), (-1, 0), (0, 1), (0, -1)]:\n",
    "            if dfs(i + di, j + dj, pos + 1):\n",
    "                return True\n",
    "        \n",
    "        # Backtrack: restore the current cell's value\n",
    "        board[i][j] = temp\n",
    "        return False\n",
    "            \n",
    "    for i in range(rows):\n",
    "        for j in range(cols):\n",
    "            if board[i][j] == word[0] and dfs(i, j, 0):\n",
    "                return True\n",
    "    return False\n",
    "\n",
    "# Example usage:\n",
    "if __name__ == \"__main__\":\n",
    "    board = [\n",
    "        [\"A\", \"B\", \"C\", \"E\"],\n",
    "        [\"S\", \"F\", \"C\", \"S\"],\n",
    "        [\"A\", \"D\", \"E\", \"E\"]\n",
    "    ]\n",
    "    word = \"ABCCED\"  # Expected output: True\n",
    "    print(exist(board, word))"
   ]
  },
  {
   "cell_type": "code",
   "execution_count": null,
   "metadata": {},
   "outputs": [
    {
     "name": "stdout",
     "output_type": "stream",
     "text": [
      "{0, 1}\n",
      "\n"
     ]
    }
   ],
   "source": [
    "def minRemoveToMakeValid(s: str) -> str:\n",
    "    # First pass: use a stack to track indices of '(' that haven't found a match.\n",
    "    stack = []\n",
    "    to_remove = set()  # Set to record indices of unmatched parentheses.\n",
    "    \n",
    "    for i, ch in enumerate(s):\n",
    "        if ch == '(':\n",
    "            # Record the index of the opening parenthesis.\n",
    "            stack.append(i)\n",
    "        elif ch == ')':\n",
    "            if stack:\n",
    "                # There is a matching '(' in the stack, so one pair is formed.\n",
    "                stack.pop()\n",
    "            else:\n",
    "                # No matching '(' is available, so mark this ')' for removal.\n",
    "                to_remove.add(i)\n",
    "    \n",
    "    # After traversing the string, any '(' indices still left in the stack did not have a matching ')'\n",
    "    # Mark all these indices for removal.\n",
    "\n",
    "\n",
    "    \n",
    "    print(to_remove)\n",
    "    # Build the resulting string by iterating over the original string and\n",
    "    # including only characters whose indices are not marked in the to_remove set.\n",
    "    result = []\n",
    "    for i, ch in enumerate(s):\n",
    "        if i not in to_remove:\n",
    "            result.append(ch)\n",
    "            \n",
    "    return ''.join(result)\n",
    "\n",
    "# Example usage:\n",
    "if __name__ == \"__main__\":\n",
    "    s = \"((\"  # Example string where some parentheses might be unmatched.\n",
    "    print(minRemoveToMakeValid(s))  # Expected output: \"ab(c)d\" or any valid variant."
   ]
  },
  {
   "cell_type": "code",
   "execution_count": 8,
   "metadata": {},
   "outputs": [
    {
     "data": {
      "text/plain": [
       "6"
      ]
     },
     "execution_count": 8,
     "metadata": {},
     "output_type": "execute_result"
    }
   ],
   "source": [
    "count"
   ]
  },
  {
   "cell_type": "code",
   "execution_count": null,
   "metadata": {},
   "outputs": [],
   "source": []
  }
 ],
 "metadata": {
  "kernelspec": {
   "display_name": "condav0",
   "language": "python",
   "name": "python3"
  },
  "language_info": {
   "codemirror_mode": {
    "name": "ipython",
    "version": 3
   },
   "file_extension": ".py",
   "mimetype": "text/x-python",
   "name": "python",
   "nbconvert_exporter": "python",
   "pygments_lexer": "ipython3",
   "version": "3.12.7"
  }
 },
 "nbformat": 4,
 "nbformat_minor": 2
}
