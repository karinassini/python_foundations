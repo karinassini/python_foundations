{
 "cells": [
  {
   "cell_type": "markdown",
   "metadata": {
    "vscode": {
     "languageId": "plaintext"
    }
   },
   "source": [
    "# Data Structures in Python\n",
    "\n",
    "This notebook demonstrates various data structures available in Python, including lists, tuples, sets, dictionaries, and more.\n"
   ]
  },
  {
   "cell_type": "markdown",
   "metadata": {},
   "source": [
    "## Strings\n",
    "\n",
    "- Creation: Strings can be defined using single quotes (' '), double quotes (\" \"), or triple quotes (''' ''' or \"\"\" \"\"\") for multi-line strings.\n",
    "\n",
    "- **Immutability**: Once created, the characters in a string cannot be changed. Instead, operations on strings produce new strings.\n",
    "\n",
    "- Indexing and Slicing: Like other sequences, you can access individual characters using indices (starting at 0) and extract parts of a string using slicing.\n",
    "\n",
    "- Methods: Python provides many built-in methods to manipulate strings (e.g., .lower(), .upper(), .strip(), .replace(), and more).\n",
    "\n",
    "- Concatenation and Formatting: Strings can be combined with the + operator, and formatted using f-strings (formatted string literals) or the format() method."
   ]
  },
  {
   "cell_type": "code",
   "execution_count": 5,
   "metadata": {},
   "outputs": [
    {
     "name": "stdout",
     "output_type": "stream",
     "text": [
      "False\n"
     ]
    }
   ],
   "source": [
    "def can_be_equal_with_one_swap(s1, s2):\n",
    "    if len(s1) != len(s2):\n",
    "        return False\n",
    "    \n",
    "    # Find the indices where the characters differ\n",
    "    diff = [(a, b) for a, b in zip(s1, s2) if a != b]\n",
    "    \n",
    "    # If there are no differences, the strings are already equal\n",
    "    if not diff:\n",
    "        return True\n",
    "    \n",
    "    # If there are exactly two differences, check if swapping them makes the strings equal\n",
    "    if len(diff) == 2 and diff[0] == diff[1][::-1]:\n",
    "        return True\n",
    "    \n",
    "    return False\n",
    "\n",
    "s = \"ban\"\n",
    "s2 = \"bank\"\n",
    "# Test the function using the given variables s and s2\n",
    "print(can_be_equal_with_one_swap(s, s2))  # Output: True"
   ]
  },
  {
   "cell_type": "code",
   "execution_count": 3,
   "metadata": {},
   "outputs": [
    {
     "data": {
      "text/plain": [
       "[('b', 'k'), ('k', 'b')]"
      ]
     },
     "execution_count": 3,
     "metadata": {},
     "output_type": "execute_result"
    }
   ],
   "source": [
    "[(a, b) for a, b in zip(s, s2) if a != b]"
   ]
  },
  {
   "cell_type": "markdown",
   "metadata": {},
   "source": [
    "### One distance edit \n",
    "\n",
    "Given two strings s and t, return true if they are both one edit distance apart, otherwise return false.\n",
    "\n",
    "A string s is said to be one distance apart from a string t if you can:\n",
    "\n",
    "Insert exactly one character into s to get t.\n",
    "Delete exactly one character from s to get t.\n",
    "Replace exactly one character of s with a different character to get t."
   ]
  },
  {
   "cell_type": "code",
   "execution_count": 20,
   "metadata": {},
   "outputs": [],
   "source": [
    "def is_one_edit_distance(s: str, t: str) -> bool:\n",
    "    # Early exit if length difference is more than 1\n",
    "    if abs(len(s) - len(t)) > 1:\n",
    "        return False\n",
    "\n",
    "    # Ensure s is the shorter (or same length) string\n",
    "    if len(s) > len(t):\n",
    "        s, t = t, s\n",
    "\n",
    "    i = j = 0\n",
    "    found_difference = False\n",
    "\n",
    "    while i < len(s) and j < len(t):\n",
    "        if s[i] != t[j]:\n",
    "            if found_difference:\n",
    "                return False\n",
    "            found_difference = True\n",
    "\n",
    "            # If lengths differ, advance only the longer string pointer\n",
    "            if len(s) < len(t):\n",
    "                j += 1\n",
    "                continue\n",
    "        i += 1\n",
    "        j += 1\n",
    "\n",
    "    # If we’ve used up all of s but t has one extra char left, it’s still valid\n",
    "    return found_difference or (len(t) - j == 1)"
   ]
  },
  {
   "cell_type": "code",
   "execution_count": 21,
   "metadata": {},
   "outputs": [],
   "source": [
    "s = \"ac\"\n",
    "t = \"acb\""
   ]
  },
  {
   "cell_type": "code",
   "execution_count": 22,
   "metadata": {},
   "outputs": [
    {
     "data": {
      "text/plain": [
       "True"
      ]
     },
     "execution_count": 22,
     "metadata": {},
     "output_type": "execute_result"
    }
   ],
   "source": [
    "is_one_edit_distance(s, t)"
   ]
  },
  {
   "cell_type": "markdown",
   "metadata": {},
   "source": [
    "### Palindrome\n",
    "\n",
    "Given a string s, return true if a permutation of the string could form a palindrome and false otherwise."
   ]
  },
  {
   "cell_type": "code",
   "execution_count": 26,
   "metadata": {},
   "outputs": [],
   "source": [
    "s = \"aabbcc\" # -> \"acbbca\""
   ]
  },
  {
   "cell_type": "code",
   "execution_count": 27,
   "metadata": {},
   "outputs": [],
   "source": [
    "def can_form_palindrome(s: str) -> bool:\n",
    "    freq = {}\n",
    "    for char in s:\n",
    "        freq[char] = freq.get(char, 0) + 1 #default value is 0\n",
    "\n",
    "    odd_count = sum(1 for count in freq.values() if count % 2 != 0)\n",
    "    return odd_count <= 1, freq"
   ]
  },
  {
   "cell_type": "code",
   "execution_count": 29,
   "metadata": {},
   "outputs": [
    {
     "data": {
      "text/plain": [
       "({'a': 2, 'b': 2, 'c': 2}, True)"
      ]
     },
     "execution_count": 29,
     "metadata": {},
     "output_type": "execute_result"
    }
   ],
   "source": [
    "result, freq = can_form_palindrome(s)\n",
    "freq,result"
   ]
  },
  {
   "cell_type": "markdown",
   "metadata": {},
   "source": [
    "How many combinations is possible?"
   ]
  },
  {
   "cell_type": "code",
   "execution_count": 40,
   "metadata": {},
   "outputs": [
    {
     "name": "stdout",
     "output_type": "stream",
     "text": [
      "Input: aabb -> ['abba', 'baab']\n",
      "Input: abaac -> []\n"
     ]
    }
   ],
   "source": [
    "def generate_permutations(half, path, used, res):\n",
    "    if len(path) == len(half):\n",
    "        res.append(''.join(path))\n",
    "        return\n",
    "    for i in range(len(half)):\n",
    "        if used[i]:\n",
    "            continue\n",
    "        # Skip duplicate characters\n",
    "        if i > 0 and half[i] == half[i - 1] and not used[i - 1]:\n",
    "            continue\n",
    "        used[i] = True\n",
    "        path.append(half[i])\n",
    "        generate_permutations(half, path, used, res)\n",
    "        path.pop()\n",
    "        used[i] = False\n",
    "\n",
    "def generate_palindromes(s: str):\n",
    "    from collections import Counter\n",
    "    count = Counter(s)\n",
    "    mid = \"\"\n",
    "    half = []\n",
    "    \n",
    "    # Check if more than one odd count character exists\n",
    "    for ch, cnt in count.items():\n",
    "        if cnt % 2 == 1:\n",
    "            if mid:  # Already have one odd element\n",
    "                return []\n",
    "            mid = ch\n",
    "        half.extend(ch * (cnt // 2)) # add half of the characters to the half list -> Counter({'a': 2, 'b': 2}) -> ['a', 'b']\n",
    "    \n",
    "    half = sorted(half)\n",
    "    permutations = []\n",
    "    used = [False] * len(half)\n",
    "    generate_permutations(half, [], used, permutations)\n",
    "    \n",
    "    palindromes = []\n",
    "    for perm in set(permutations):\n",
    "        palindromes.append(perm + mid + perm[::-1])\n",
    "    \n",
    "    return palindromes\n",
    "\n",
    "# Example usage:\n",
    "if __name__ == \"__main__\":\n",
    "    s1 = \"aabb\"\n",
    "    s2 = \"abaac\"\n",
    "    print(\"Input:\", s1, \"->\", generate_palindromes(s1))\n",
    "    print(\"Input:\", s2, \"->\", generate_palindromes(s2))\n"
   ]
  },
  {
   "cell_type": "code",
   "execution_count": 41,
   "metadata": {},
   "outputs": [
    {
     "data": {
      "text/plain": [
       "2"
      ]
     },
     "execution_count": 41,
     "metadata": {},
     "output_type": "execute_result"
    }
   ],
   "source": [
    "4//2"
   ]
  },
  {
   "cell_type": "markdown",
   "metadata": {},
   "source": [
    "### Add Bold Tag in String Medium\n",
    "\n",
    "\n",
    "You should add a closed pair of bold tag <b> and </b> to wrap the substrings in s that exist in words.\n",
    "\n",
    "If two such substrings overlap, you should wrap them together with only one pair of closed bold-tag. If two substrings wrapped by bold tags are consecutive, you should combine them. Return s after adding the bold tags.\n"
   ]
  },
  {
   "cell_type": "code",
   "execution_count": 53,
   "metadata": {},
   "outputs": [
    {
     "name": "stdout",
     "output_type": "stream",
     "text": [
      "<b>aaaa</b>xyz<b>123</b>\n"
     ]
    }
   ],
   "source": [
    "def addBoldTag(s: str, words) -> str:\n",
    "    intervals = []\n",
    "    # Find all intervals where any word is a substring of s.\n",
    "    for word in words:\n",
    "        start = s.find(word)\n",
    "        while start != -1:\n",
    "            intervals.append((start, start + len(word))) # if I found the word, I will add the start and end index to the intervals list\n",
    "            start = s.find(word, start + 1)\n",
    "\n",
    "    # If no intervals are found, return the string as is.\n",
    "    if not intervals:\n",
    "        return s\n",
    "\n",
    "    # Sort intervals by start index.\n",
    "    intervals.sort(key=lambda x: x[0])\n",
    "    \n",
    "    # Merge overlapping or consecutive intervals.\n",
    "    merged = [intervals[0]]\n",
    "\n",
    "    for curr in intervals[1:]:\n",
    "        prev = merged[-1]\n",
    "        # Check if intervals overlap or are adjacent.\n",
    "        if curr[0] <= prev[1]:\n",
    "            merged[-1] = (prev[0], max(prev[1], curr[1]))\n",
    "        else:\n",
    "            merged.append(curr)\n",
    "    # Build the resulting string with bold tags.\n",
    "    result = []\n",
    "    prev_end = 0\n",
    "    for start, end in merged:\n",
    "        # Add text before current bold interval.\n",
    "        result.append(s[prev_end:start])\n",
    "        # Add bold tags around the interval.\n",
    "        result.append(\"<b>\" + s[start:end] + \"</b>\")\n",
    "        prev_end = end\n",
    "    # Append the remaining text after the last interval.\n",
    "    result.append(s[prev_end:])\n",
    "    \n",
    "    return \"\".join(result)\n",
    "\n",
    "# Example usage:\n",
    "if __name__ == \"__main__\":\n",
    "    s = \"aaaaxyz123\"\n",
    "    words = [\"aa\", \"123\"]\n",
    "    print(addBoldTag(s, words))  # Expected: \"<b>abc</b>xyz<b>123</b>\""
   ]
  },
  {
   "cell_type": "markdown",
   "metadata": {},
   "source": [
    "## List\n",
    "\n",
    "A list is a collection which is ordered and changeable. Allows duplicate members.\n",
    "\n",
    "\n",
    "Sets and lists both have their own advantages. \n",
    "\n",
    "- Sets are optimal when you need fast membership testing and uniqueness, as they offer average O(1) lookup time and automatically eliminate duplicate values. \n",
    "\n",
    "- In contrast, lists preserve order and allow duplicates, making them ideal when the sequence of elements matters. The choice depends on your specific needs in terms of order, performance, and uniqueness requirements.\n",
    "\n",
    "\n",
    "\n",
    "- Lists support indexing and slicing to access individual items or sublists.\n",
    "- They are mutable, allowing modifications such as element assignment.\n",
    "- You can concatenate lists with the + operator and repeat them using the * operator.\n",
    "- Built-in methods like append(), insert(), remove(), pop(), reverse(), and sort() facilitate common list operations.\n",
    "- Lists can contain mixed data types, including other lists (nested lists).\n",
    "- List comprehensions provide a concise way to generate new lists based on existing iterables.\n"
   ]
  },
  {
   "cell_type": "code",
   "execution_count": 66,
   "metadata": {},
   "outputs": [
    {
     "name": "stdout",
     "output_type": "stream",
     "text": [
      "Initial list: ['aa', '123']\n",
      "After append: ['aa', '123', 'new']\n",
      "After insert at index 1: ['aa', 'inserted', '123', 'new']\n",
      "After removing 'aa': ['inserted', '123', 'new']\n",
      "Popped element: new\n",
      "List after pop: ['inserted', '123']\n",
      "After reverse: ['123', 'inserted']\n",
      "After sorting: ['123', 'inserted']\n"
     ]
    }
   ],
   "source": [
    "# Let's perform some common list operations.\n",
    "# Here, we are using the pre-defined list \"words\" which is ['aa', '123'].\n",
    "\n",
    "words = ['aa', '123']\n",
    "\n",
    "# Create a copy of words to work with\n",
    "ops_list = words.copy()\n",
    "print(\"Initial list:\", ops_list)\n",
    "\n",
    "# Append a new element\n",
    "ops_list.append(\"new\")\n",
    "print(\"After append:\", ops_list)\n",
    "\n",
    "# Insert an element at index 1\n",
    "ops_list.insert(1, \"inserted\")\n",
    "print(\"After insert at index 1:\", ops_list)\n",
    "\n",
    "# Remove an element (first occurrence) \n",
    "ops_list.remove(\"aa\")\n",
    "print(\"After removing 'aa':\", ops_list)\n",
    "\n",
    "# Pop an element from the end\n",
    "popped = ops_list.pop()\n",
    "print(\"Popped element:\", popped)\n",
    "print(\"List after pop:\", ops_list)\n",
    "\n",
    "# Reverse the list in-place\n",
    "ops_list.reverse()\n",
    "print(\"After reverse:\", ops_list)\n",
    "\n",
    "# Sort the list (alphabetically)\n",
    "ops_list.sort()\n",
    "print(\"After sorting:\", ops_list)"
   ]
  },
  {
   "cell_type": "code",
   "execution_count": 98,
   "metadata": {},
   "outputs": [
    {
     "name": "stdout",
     "output_type": "stream",
     "text": [
      "List: [1, 2, 3, 4, 5]\n",
      "First element: 1\n",
      "Modified list: [1, 2, 10, 4, 5]\n",
      "Appended list: [1, 2, 10, 4, 5, 6]\n",
      "Inserted list: [1, 2, 7, 10, 4, 5, 6]\n",
      "Removed list: [1, 2, 10, 4, 5, 6]\n",
      "Popped list index 2: [1, 2, 4, 5, 6]\n",
      "Popped list: [1, 2, 4, 5]\n",
      "Reversed list: [5, 4, 2, 1]\n",
      "Sorted list: [1, 2, 4, 5]\n",
      "Count of 5: 1\n",
      "Index of 5: 3\n",
      "[1, 2, 4, 5]\n"
     ]
    }
   ],
   "source": [
    "# Creating a list\n",
    "my_list = [1, 2, 3, 4, 5]\n",
    "print(\"List:\", my_list)\n",
    "\n",
    "# Accessing elements\n",
    "print(\"First element:\", my_list[0])\n",
    "\n",
    "# Modifying elements\n",
    "my_list[2] = 10\n",
    "print(\"Modified list:\", my_list)\n",
    "\n",
    "my_list.append(6)\n",
    "print(\"Appended list:\", my_list)\n",
    "\n",
    "my_list.insert(2, 7)\n",
    "print(\"Inserted list:\", my_list)\n",
    "\n",
    "my_list.remove(7)\n",
    "print(\"Removed list:\", my_list)\n",
    "\n",
    "my_list.pop(2)\n",
    "print(\"Popped list index 2:\", my_list)  \n",
    "\n",
    "my_list.pop()\n",
    "print(\"Popped list:\", my_list)  \n",
    "\n",
    "my_list.reverse()\n",
    "print(\"Reversed list:\", my_list)\n",
    "\n",
    "my_list.sort(key=None, reverse=False)\n",
    "print(\"Sorted list:\", my_list)\n",
    "\n",
    "print(\"Count of 5:\", my_list.count(5))\n",
    "\n",
    "\n",
    "print(\"Index of 5:\", my_list.index(5))\n",
    "\n",
    "\n",
    "#my_list.clear()\n",
    "\n",
    "print(my_list)"
   ]
  },
  {
   "cell_type": "markdown",
   "metadata": {},
   "source": [
    "In the worst case, if you need to insert an element at the beginning or in the middle of the array, you may have to shift other elements to make space for the new element, which takes O(n) time (where n is the number of elements in the array)."
   ]
  },
  {
   "cell_type": "code",
   "execution_count": 100,
   "metadata": {},
   "outputs": [
    {
     "name": "stdout",
     "output_type": "stream",
     "text": [
      "[1, 2, 10, 10, 4, 5]\n"
     ]
    }
   ],
   "source": [
    "my_list.insert(2, 10)  # Insert 10 at index 2\n",
    "\n",
    "print(my_list)  # Output: [1, 2, 10, 3, 4, 5]\n"
   ]
  },
  {
   "cell_type": "markdown",
   "metadata": {},
   "source": [
    "### Find complement of a number in a list"
   ]
  },
  {
   "cell_type": "code",
   "execution_count": 70,
   "metadata": {},
   "outputs": [],
   "source": [
    "def twoSum(nums, target):\n",
    "    # Dictionary to store the value and its corresponding index\n",
    "    num_map = {}\n",
    "    \n",
    "    # Iterate over the nums array\n",
    "    for i, num in enumerate(nums):\n",
    "        complement = target - num\n",
    "        \n",
    "        # If the complement exists in the dictionary, return the indices\n",
    "        if complement in num_map:\n",
    "            return [num_map[complement], i]\n",
    "        \n",
    "        # Otherwise, add the current number and its index to the dictionary\n",
    "        num_map[num] = i\n"
   ]
  },
  {
   "cell_type": "markdown",
   "metadata": {},
   "source": [
    "## Nested List\n",
    "\n",
    "Multi-Level Structure:\n",
    "Each element of a nested list can be another list, and those lists can contain further nested lists, creating multiple layers of data.\n",
    "\n",
    "Accessing Elements:\n",
    "To access an element, you need to use multiple indices. For example, in a 2-dimensional nested list (a matrix), you use the first index for the row and the second index for the column.\n",
    "\n",
    "Common Use Cases:\n",
    "Nested lists are often used to represent:\n",
    "\n",
    "Matrices (2D arrays)\n",
    "Grids (like a chess board)\n",
    "Trees and other hierarchical data structures\n",
    "\n",
    "\n",
    "- O(1)\n",
    "\n",
    "\n"
   ]
  },
  {
   "cell_type": "code",
   "execution_count": 73,
   "metadata": {},
   "outputs": [],
   "source": [
    "MyList = [[22, 14, 16], [\"Joe\", \"Sam\", \"Abel\"], [True, False, True]]"
   ]
  },
  {
   "cell_type": "code",
   "execution_count": 74,
   "metadata": {},
   "outputs": [
    {
     "name": "stdout",
     "output_type": "stream",
     "text": [
      "4666742976\n",
      "4666114880\n",
      "4666336064\n"
     ]
    }
   ],
   "source": [
    "for objects in MyList:\n",
    "    print(id(objects))"
   ]
  },
  {
   "cell_type": "code",
   "execution_count": 75,
   "metadata": {},
   "outputs": [],
   "source": [
    "MyList = [[]] * 5"
   ]
  },
  {
   "cell_type": "code",
   "execution_count": 76,
   "metadata": {},
   "outputs": [
    {
     "name": "stdout",
     "output_type": "stream",
     "text": [
      "[[7], [7], [7], [7], [7]]\n"
     ]
    }
   ],
   "source": [
    "MyList[1].append(7)\n",
    "print(MyList)"
   ]
  },
  {
   "cell_type": "markdown",
   "metadata": {},
   "source": [
    "## Set\n",
    "A set is a collection which is unordered, unchangeable*, and unindexed. No duplicate members.\n",
    "\n",
    "\n",
    "- Uniqueness:\n",
    "    Sets automatically remove duplicates. Every element in a set is unique.\n",
    "\n",
    "- Unordered:\n",
    "    Elements in a set do not have a fixed order. Display order may vary and does not reflect insertion order (prior to Python 3.7, though insertion order is preserved in regular dictionaries and sets in CPython 3.7+, it's not a guaranteed language feature).\n",
    "\n",
    "- Mutable:\n",
    "    You can add or remove elements after a set is created. However, the elements themselves must be immutable (e.g., numbers, strings, tuples).\n",
    "\n",
    "- Efficient Membership Testing:\n",
    "    Checking if an element is in a set is very fast (average O(1) time complexity).\n",
    "\n",
    "- Set Operations:\n",
    "    Sets provide mathematical operations like union, intersection, difference, and symmetric difference:\n",
    "\n",
    "union(set2) or set1 | set2\n",
    "\n",
    "intersection(set2) or set1 & set2\n",
    "\n",
    "difference(set2) or set1 - set2\n",
    "\n",
    "symmetric_difference(set2) or set1 ^ set2"
   ]
  },
  {
   "cell_type": "code",
   "execution_count": 77,
   "metadata": {},
   "outputs": [
    {
     "name": "stdout",
     "output_type": "stream",
     "text": [
      "Set: {1, 2, 3, 4, 5}\n",
      "Set after adding an element: {1, 2, 3, 4, 5, 6}\n",
      "Set after removing an element: {1, 2, 4, 5, 6}\n"
     ]
    }
   ],
   "source": [
    "my_set = {1, 2, 3, 4, 5}\n",
    "print(\"Set:\", my_set)\n",
    "\n",
    "my_set.add(6)\n",
    "print(\"Set after adding an element:\", my_set)\n",
    "\n",
    "my_set.remove(3)\n",
    "print(\"Set after removing an element:\", my_set)"
   ]
  },
  {
   "cell_type": "code",
   "execution_count": 78,
   "metadata": {},
   "outputs": [
    {
     "name": "stdout",
     "output_type": "stream",
     "text": [
      "{1, 2, 3, 4}\n",
      "2 is in my_set\n",
      "{1, 2, 3, 4, 5}\n",
      "{3}\n",
      "{1, 2}\n",
      "{1, 2, 4, 5}\n"
     ]
    }
   ],
   "source": [
    "# Creating a set with duplicate elements - the duplicates are removed\n",
    "my_set = {1, 2, 2, 3, 4, 3}\n",
    "print(my_set)  # Output might be: {1, 2, 3, 4}\n",
    "\n",
    "# Adding and removing elements\n",
    "my_set.add(5)        # Now my_set is {1, 2, 3, 4, 5}\n",
    "my_set.remove(3)     # Removes element 3 if it exists\n",
    "\n",
    "# Checking membership (fast lookup)\n",
    "if 2 in my_set:\n",
    "    print(\"2 is in my_set\")\n",
    "\n",
    "# Set operations\n",
    "set_a = {1, 2, 3}\n",
    "set_b = {3, 4, 5}\n",
    "\n",
    "# Union\n",
    "print(set_a | set_b)  # Output: {1, 2, 3, 4, 5}\n",
    "\n",
    "# Intersection\n",
    "print(set_a & set_b)  # Output: {3}\n",
    "\n",
    "# Difference\n",
    "print(set_a - set_b)  # Output: {1, 2}\n",
    "\n",
    "# Symmetric Difference\n",
    "print(set_a ^ set_b)  # Output: {1, 2, 4, 5}"
   ]
  },
  {
   "cell_type": "markdown",
   "metadata": {},
   "source": [
    "## Tuple\n",
    "A tuple is a collection which is ordered and unchangeable. Allows duplicate members.\n",
    "\n",
    "- immutable: dont support in-place mutations\n",
    "- lightweight\n",
    "- Heterogeneous: They can store objects of different data types and domains, including mutable objects.\n",
    "- Nestable: They can contain other tuples, so you can have tuples of tuples.\n",
    "- Iterable: They support iteration, so you can traverse them using a loop or comprehension while you perform operations with each of their elements.\n",
    "- Sliceable: They support slicing operations, meaning that you can extract a series of elements from a tuple.\n",
    "- Combinable: They support concatenation operations, so you can combine two or more tuples using the concatenation operators, which creates a new tuple.\n",
    "- Hashable: They can work as keys in dictionaries when all the tuple items are immutable.\n",
    "\n",
    "\n",
    "- augmented conct operator works\n",
    "- + operator works\n",
    "- repeating with *\n",
    "\n"
   ]
  },
  {
   "cell_type": "code",
   "execution_count": 79,
   "metadata": {},
   "outputs": [
    {
     "data": {
      "text/plain": [
       "(43,)"
      ]
     },
     "execution_count": 79,
     "metadata": {},
     "output_type": "execute_result"
    }
   ],
   "source": [
    "# To create a tuple with a single item, you need to place the item followed by a comma\n",
    "\n",
    "one_number = (43,)\n",
    "one_number"
   ]
  },
  {
   "cell_type": "code",
   "execution_count": 80,
   "metadata": {},
   "outputs": [
    {
     "data": {
      "text/plain": [
       "1"
      ]
     },
     "execution_count": 80,
     "metadata": {},
     "output_type": "execute_result"
    }
   ],
   "source": [
    "one_number.count(43)"
   ]
  },
  {
   "cell_type": "code",
   "execution_count": 82,
   "metadata": {},
   "outputs": [
    {
     "ename": "TypeError",
     "evalue": "'tuple' object does not support item assignment",
     "output_type": "error",
     "traceback": [
      "\u001b[0;31m---------------------------------------------------------------------------\u001b[0m",
      "\u001b[0;31mTypeError\u001b[0m                                 Traceback (most recent call last)",
      "Cell \u001b[0;32mIn[82], line 1\u001b[0m\n\u001b[0;32m----> 1\u001b[0m \u001b[43mone_number\u001b[49m\u001b[43m[\u001b[49m\u001b[38;5;241;43m1\u001b[39;49m\u001b[43m]\u001b[49m \u001b[38;5;241m=\u001b[39m \u001b[38;5;124m\"\u001b[39m\u001b[38;5;124moi\u001b[39m\u001b[38;5;124m\"\u001b[39m\n",
      "\u001b[0;31mTypeError\u001b[0m: 'tuple' object does not support item assignment"
     ]
    }
   ],
   "source": [
    "one_number[1] = \"new\""
   ]
  },
  {
   "cell_type": "code",
   "execution_count": 81,
   "metadata": {},
   "outputs": [
    {
     "data": {
      "text/plain": [
       "('Pythonista',)"
      ]
     },
     "execution_count": 81,
     "metadata": {},
     "output_type": "execute_result"
    }
   ],
   "source": [
    "tuple([\"Pythonista\"])\n"
   ]
  },
  {
   "cell_type": "code",
   "execution_count": 82,
   "metadata": {},
   "outputs": [
    {
     "data": {
      "text/plain": [
       "[2, 3, 4]"
      ]
     },
     "execution_count": 82,
     "metadata": {},
     "output_type": "execute_result"
    }
   ],
   "source": [
    "numbers = (1, 2, 3, 4, 5)\n",
    "first, *middle, last = numbers\n",
    "\n",
    "middle"
   ]
  },
  {
   "cell_type": "code",
   "execution_count": 92,
   "metadata": {},
   "outputs": [
    {
     "data": {
      "text/plain": [
       "(5, 4, 3, 2, 1)"
      ]
     },
     "execution_count": 92,
     "metadata": {},
     "output_type": "execute_result"
    }
   ],
   "source": [
    "numbers[::-1]"
   ]
  },
  {
   "cell_type": "code",
   "execution_count": 83,
   "metadata": {},
   "outputs": [
    {
     "data": {
      "text/plain": [
       "True"
      ]
     },
     "execution_count": 83,
     "metadata": {},
     "output_type": "execute_result"
    }
   ],
   "source": [
    "from copy import copy, deepcopy\n",
    "student_info = (\"Linda\", 18, [\"Math\", \"Physics\", \"History\"])\n",
    "student_profile = copy(student_info)\n",
    "\n",
    "id(student_info) == id(student_profile)"
   ]
  },
  {
   "cell_type": "code",
   "execution_count": 84,
   "metadata": {},
   "outputs": [
    {
     "data": {
      "text/plain": [
       "False"
      ]
     },
     "execution_count": 84,
     "metadata": {},
     "output_type": "execute_result"
    }
   ],
   "source": [
    "student_profile_deep = deepcopy(student_info)\n",
    "id(student_profile_deep) == id(student_profile)"
   ]
  },
  {
   "cell_type": "markdown",
   "metadata": {},
   "source": [
    "### Count valid pairs with equal products"
   ]
  },
  {
   "cell_type": "code",
   "execution_count": 96,
   "metadata": {},
   "outputs": [
    {
     "name": "stdout",
     "output_type": "stream",
     "text": [
      "Number of valid tuples: (8, {6: 1, 8: 1, 12: 2, 18: 1, 24: 1})\n"
     ]
    }
   ],
   "source": [
    "from collections import defaultdict\n",
    "\n",
    "def countTuples(nums):\n",
    "    product_pairs = {} # or with defaultdict: product_pairs = defaultdict(int)\n",
    "    n = len(nums)\n",
    "    \n",
    "    # Count pairs by product (only unique pairs since nums has distinct elements)\n",
    "    for i in range(n):\n",
    "        for j in range(i+1, n): # to avoid duplicates\n",
    "            product_pairs[nums[i] * nums[j]] = product_pairs.get(nums[i] * nums[j], 0) + 1 #default value is 0\n",
    "            #product_pairs.get([nums[i] * nums[j]]) += 1\n",
    "\n",
    "    total = 0\n",
    "    # For each product, if there are k pairs, we can form 8 * (k choose 2) valid tuples -> binomial coefficient\n",
    "    for count in product_pairs.values():\n",
    "        if count >= 2:\n",
    "            total += 8 * (count * (count - 1) // 2)\n",
    "    return total, product_pairs\n",
    "\n",
    "# Example usage:\n",
    "nums_ex = [2, 3, 4, 6]\n",
    "print(\"Number of valid tuples:\", countTuples(nums_ex))"
   ]
  },
  {
   "cell_type": "markdown",
   "metadata": {},
   "source": [
    "## Hashable Obj\n",
    "\n",
    "- A hashable object is an object that has a hash value that never changes during its lifetime\n",
    "\n",
    "print(\"Immutable object's hash value:\")\n",
    "print(\"hash(cnt):\", hash(cnt))\n",
    "print(\"hash(s):\", hash(s))\n"
   ]
  },
  {
   "cell_type": "code",
   "execution_count": 97,
   "metadata": {},
   "outputs": [
    {
     "name": "stdout",
     "output_type": "stream",
     "text": [
      "Hashing a mutable object like MyList raises an error:\n",
      "Error hashing MyList: unhashable type: 'list'\n"
     ]
    }
   ],
   "source": [
    "print(\"Hashing a mutable object like MyList raises an error:\")\n",
    "try:\n",
    "    print(hash(MyList))\n",
    "except TypeError as e:\n",
    "    print(\"Error hashing MyList:\", e)"
   ]
  },
  {
   "cell_type": "markdown",
   "metadata": {},
   "source": [
    "## Stack\n",
    "\n",
    "A stack is a collection which follows the Last In First Out (LIFO) principle.\n",
    "\n",
    "- Supports push (insertion), pop (removal), and peek (inspect top element) operations.\n",
    "- Typically implemented in Python using a list with O(1) time complexity for push and pop.\n",
    "- Follows a Last In First Out (LIFO) principle, making the most recently added item the first to be removed.\n",
    "- Commonly used in recursion, backtracking, and expression evaluation.\n",
    "- Can be extended to include utility functions such as isEmpty and size.\n"
   ]
  },
  {
   "cell_type": "code",
   "execution_count": 101,
   "metadata": {},
   "outputs": [
    {
     "name": "stdout",
     "output_type": "stream",
     "text": [
      "Stack: [1, 2, 3]\n",
      "Popped element: 3\n",
      "Stack after popping an element: [1, 2]\n"
     ]
    }
   ],
   "source": [
    "\n",
    "stack = []\n",
    "stack.append(1)\n",
    "stack.append(2)\n",
    "stack.append(3)\n",
    "print(\"Stack:\", stack)\n",
    "\n",
    "# Popping elements\n",
    "print(\"Popped element:\", stack.pop())\n",
    "print(\"Stack after popping an element:\", stack)\n"
   ]
  },
  {
   "cell_type": "markdown",
   "metadata": {},
   "source": [
    "#### Valid parameters\n",
    "\n",
    "Given a string s containing just the characters '(', ')', '{', '}', '[' and ']', determine if the input string is valid.\n",
    "\n",
    "An input string is valid if:\n",
    "\n",
    "- Open brackets must be closed by the same type of brackets.\n",
    "- Open brackets must be closed in the correct order.\n",
    "- Every close bracket has a corresponding open bracket of the same type.\n",
    "\n",
    "\n"
   ]
  },
  {
   "cell_type": "code",
   "execution_count": 107,
   "metadata": {},
   "outputs": [],
   "source": [
    "def isValid(s: str) -> bool:\n",
    "    # Mapping of closing brackets to their corresponding opening brackets.\n",
    "    bracket_map = {')': '(', '}': '{', ']': '['}\n",
    "    stack = []\n",
    "    \n",
    "    for char in s:\n",
    "        if char in bracket_map.values():\n",
    "            # If it's an opening bracket, push it onto the stack.\n",
    "            stack.append(char)\n",
    "        elif char in bracket_map:\n",
    "            # If it's a closing bracket, check for a matching opening bracket.\n",
    "            if not stack or stack.pop() != bracket_map[char]:\n",
    "                return False\n",
    "        else:\n",
    "            # In case there are any other characters, they can be ignored or handled.\n",
    "            return False\n",
    "            \n",
    "    # At the end, the stack should be empty if all brackets matched.\n",
    "    return not stack"
   ]
  },
  {
   "cell_type": "code",
   "execution_count": 108,
   "metadata": {},
   "outputs": [
    {
     "name": "stdout",
     "output_type": "stream",
     "text": [
      "'()': True\n",
      "'()[]{}': True\n",
      "'(]': False\n",
      "'([)]': False\n",
      "'{[]}': True\n",
      "'.': False\n"
     ]
    }
   ],
   "source": [
    "# Example usage:\n",
    "if __name__ == \"__main__\":\n",
    "    test_strings = [\n",
    "        \"()\",           # True\n",
    "        \"()[]{}\",       # True\n",
    "        \"(]\",           # False\n",
    "        \"([)]\",         # False\n",
    "        \"{[]}\",         # True\n",
    "        \".\",             # True (an empty string is valid)\n",
    "    ]\n",
    "\n",
    "    for s in test_strings:\n",
    "        print(f\"{s!r}: {isValid(s)}\")"
   ]
  },
  {
   "cell_type": "markdown",
   "metadata": {},
   "source": [
    "#### Longest Valid Parentheses\n",
    "\n",
    "Given a string containing just the characters '(' and ')', return the length of the longest valid (well-formed) parentheses \n",
    "substring\n"
   ]
  },
  {
   "cell_type": "code",
   "execution_count": null,
   "metadata": {},
   "outputs": [],
   "source": []
  },
  {
   "cell_type": "code",
   "execution_count": 109,
   "metadata": {},
   "outputs": [
    {
     "name": "stdout",
     "output_type": "stream",
     "text": [
      "4\n"
     ]
    }
   ],
   "source": [
    "def longestValidParentheses(s: str) -> int:\n",
    "    max_length = 0\n",
    "    # Initialize stack with -1 to help with length calculations\n",
    "    stack = [-1]\n",
    "    \n",
    "    for i, char in enumerate(s):\n",
    "        if char == '(':\n",
    "            stack.append(i)\n",
    "        else:  # char == ')'\n",
    "            # Pop from the stack\n",
    "            stack.pop()\n",
    "            # If stack is empty, push current index; else update max_length\n",
    "            if not stack:\n",
    "                stack.append(i)\n",
    "            else:\n",
    "                max_length = max(max_length, i - stack[-1])\n",
    "    return max_length\n",
    "\n",
    "# Test the function using the existing variable s\n",
    "s = \"(((())\"\n",
    "print(longestValidParentheses(s))\n",
    "\n"
   ]
  },
  {
   "attachments": {
    "image.png": {
     "image/png": "[encoded data removed]"
    }
   },
   "cell_type": "markdown",
   "metadata": {},
   "source": [
    "#### Trapping Rain Water\n",
    "\n",
    "Given n non-negative integers representing an elevation map where the width of each bar is 1, compute how much water it can trap after raining.\n",
    "\n",
    "![image.png](attachment:image.png)"
   ]
  },
  {
   "cell_type": "code",
   "execution_count": 116,
   "metadata": {},
   "outputs": [
    {
     "name": "stdout",
     "output_type": "stream",
     "text": [
      "Trapped water: 6\n"
     ]
    }
   ],
   "source": [
    "def trap(height):\n",
    "    if not height:\n",
    "        return 0\n",
    "\n",
    "    left, right = 0, len(height) - 1\n",
    "    left_max, right_max = height[left], height[right]\n",
    "    water = 0\n",
    "\n",
    "    while left < right:\n",
    "        \n",
    "        if left_max < right_max:\n",
    "            left += 1\n",
    "            left_max = max(left_max, height[left])\n",
    "            water += left_max - height[left]\n",
    "        else:\n",
    "            right -= 1\n",
    "            right_max = max(right_max, height[right])\n",
    "            water += right_max - height[right]\n",
    "    return water\n",
    "\n",
    "# Example usage:\n",
    "elevation = [0,1,0,2,1,0,1,3,2,1,2,1]\n",
    "print(\"Trapped water:\", trap(elevation))"
   ]
  },
  {
   "cell_type": "markdown",
   "metadata": {},
   "source": [
    "#### Simplify path"
   ]
  },
  {
   "cell_type": "code",
   "execution_count": 117,
   "metadata": {},
   "outputs": [
    {
     "name": "stdout",
     "output_type": "stream",
     "text": [
      "['', 'home', '', 'user', 'Documents', '..', 'Pictures']\n",
      "['home', 'user', 'Documents']\n",
      "/home/user/Pictures\n"
     ]
    }
   ],
   "source": [
    "\n",
    "def simplify_path(path):\n",
    "    # Split the path by '/' to process each part\n",
    "    parts = path.split('/')\n",
    "    print(parts)\n",
    "    stack_path = []\n",
    "    \n",
    "    for part in parts:\n",
    "        if part == '' or part == '.':\n",
    "            # Skip empty parts and current directory tokens\n",
    "            continue\n",
    "        elif part == '..':\n",
    "            # Go up to the parent directory if possible\n",
    "            if stack_path:\n",
    "                stack_path.pop()\n",
    "        else:\n",
    "            # Normal directory/file names (e.g., '...' is valid)\n",
    "            stack_path.append(part)\n",
    "    \n",
    "    # Assemble the canonical path. Root is '/' if no parts remain.\n",
    "    return '/' + '/'.join(stack_path)\n",
    "\n",
    "# Use the given variable s as the input path\n",
    "\n",
    "\n",
    "s = \"/home//user/Documents/../Pictures\"\n",
    "canonical_path = simplify_path(s)\n",
    "print(canonical_path)\n",
    "\n",
    "    \n",
    "    \n",
    "    "
   ]
  },
  {
   "attachments": {
    "image.png": {
     "image/png": "[encoded data removed]"
    }
   },
   "cell_type": "markdown",
   "metadata": {},
   "source": [
    "### Max Histogram area\n",
    "\n",
    "![image.png](attachment:image.png)\n",
    "\n"
   ]
  },
  {
   "cell_type": "code",
   "execution_count": 127,
   "metadata": {},
   "outputs": [],
   "source": [
    "def largestRectangleArea(heights):\n",
    "    stack = []\n",
    "    max_area = 0\n",
    "    # Append a zero height to force calculation of remaining bars\n",
    "    heights.append(0)\n",
    "    \n",
    "    for i, h in enumerate(heights):\n",
    "        while stack and h < heights[stack[-1]]:\n",
    "            height = heights[stack.pop()]\n",
    "            width = i if not stack else i - stack[-1] - 1\n",
    "            max_area = max(max_area, height * width)\n",
    "        stack.append(i)\n",
    "    \n",
    "    # Restore the original list if necessary\n",
    "    heights.pop()\n",
    "    print(\"Largest rectangle area:\", max_area)\n",
    "\n",
    "    return max_area\n"
   ]
  },
  {
   "cell_type": "code",
   "execution_count": 128,
   "metadata": {},
   "outputs": [
    {
     "name": "stdout",
     "output_type": "stream",
     "text": [
      "Largest rectangle area: 10\n"
     ]
    },
    {
     "data": {
      "text/plain": [
       "10"
      ]
     },
     "execution_count": 128,
     "metadata": {},
     "output_type": "execute_result"
    }
   ],
   "source": [
    "heights = [2,1,5,6,2,3]\n",
    "largestRectangleArea(heights)"
   ]
  },
  {
   "cell_type": "markdown",
   "metadata": {},
   "source": [
    "### Matrix\n",
    "\n",
    "Given a rows x cols binary matrix filled with 0's and 1's, find the largest rectangle containing only 1's and return its area."
   ]
  },
  {
   "cell_type": "code",
   "execution_count": 135,
   "metadata": {},
   "outputs": [],
   "source": [
    "matrix = [[\"1\",\"0\",\"1\",\"0\",\"0\"],[\"1\",\"0\",\"1\",\"1\",\"1\"],[\"1\",\"1\",\"1\",\"1\",\"1\"],[\"0\",\"0\",\"0\",\"0\",\"0\"]]"
   ]
  },
  {
   "cell_type": "code",
   "execution_count": 136,
   "metadata": {},
   "outputs": [
    {
     "name": "stdout",
     "output_type": "stream",
     "text": [
      "The area of the largest rectangle is: 6\n"
     ]
    }
   ],
   "source": [
    "def largestRectangleAreaHistogram(heights):\n",
    "    stack = []\n",
    "    max_area = 0\n",
    "    # Append a sentinel value\n",
    "    for i, h in enumerate(heights + [0]):\n",
    "        while stack and h < heights[stack[-1]]:\n",
    "            height = heights[stack.pop()]\n",
    "            width = i if not stack else i - stack[-1] - 1\n",
    "            max_area = max(max_area, height * width)\n",
    "        stack.append(i)\n",
    "    return max_area\n",
    "\n",
    "def maximalRectangle(matrix):\n",
    "    if not matrix or not matrix[0]:\n",
    "        return 0\n",
    "    \n",
    "    max_area = 0\n",
    "    n = len(matrix[0])\n",
    "    heights = [0] * n\n",
    "    \n",
    "    for row in matrix:\n",
    "        for j in range(n):\n",
    "            # Convert string values to integers for calculation\n",
    "            heights[j] = heights[j] + 1 if row[j] == '1' else 0\n",
    "        max_area = max(max_area, largestRectangleAreaHistogram(heights))\n",
    "    return max_area\n",
    "\n",
    "# Test with the pre-defined 'matrix' variable\n",
    "area = maximalRectangle(matrix)\n",
    "print(\"The area of the largest rectangle is:\", area)\n"
   ]
  },
  {
   "cell_type": "markdown",
   "metadata": {},
   "source": [
    "### Max Stack\n",
    "\n",
    "\n",
    "Design a max stack data structure that supports the stack operations and supports finding the stack's maximum element.\n",
    "\n",
    "\n",
    "MaxStack() Initializes the stack object.\n",
    "void push(int x) Pushes element x onto the stack.\n",
    "int pop() Removes the element on top of the stack and returns it.\n",
    "int top() Gets the element on the top of the stack without removing it.\n",
    "int peekMax() Retrieves the maximum element in the stack without removing it.\n",
    "int popMax() Retrieves the maximum element in the stack and removes it. If there is more than one maximum element, only remove the top-most one.\n",
    "You must come up with a solution that supports O(1) for each top call and O(logn) for each other call.\n",
    "\n",
    " \n",
    "\n",
    "Example 1:\n",
    "\n",
    "Input\n",
    "[\"MaxStack\", \"push\", \"push\", \"push\", \"top\", \"popMax\", \"top\", \"peekMax\", \"pop\", \"top\"]\n",
    "[[], [5], [1], [5], [], [], [], [], [], []]"
   ]
  },
  {
   "cell_type": "code",
   "execution_count": null,
   "metadata": {},
   "outputs": [
    {
     "name": "stdout",
     "output_type": "stream",
     "text": [
      "Top: 5\n",
      "popMax: 5\n",
      "Top after popMax: 1\n",
      "peekMax: 5\n",
      "Pop: 1\n",
      "Top: 5\n"
     ]
    }
   ],
   "source": [
    "import bisect\n",
    "\n",
    "# Doubly linked list node.\n",
    "class Node:\n",
    "    def __init__(self, val: int):\n",
    "        self.val = val\n",
    "        self.prev = None\n",
    "        self.next = None\n",
    "\n",
    "class MaxStack:\n",
    "    def __init__(self):\n",
    "        # Initialize dummy head and tail to form our doubly linked list.\n",
    "        self.head = Node(0)\n",
    "        self.tail = Node(0)\n",
    "        self.head.next = self.tail\n",
    "        self.tail.prev = self.head\n",
    "        \n",
    "        # Dictionary mapping each value to the list of nodes (instances) with that value.\n",
    "        self.val_to_nodes = {}\n",
    "        \n",
    "        # A sorted list of the unique keys currently in the stack.\n",
    "        self.sorted_keys = []\n",
    "        \n",
    "    def push(self, x: int) -> None:\n",
    "        # Create a new node.\n",
    "        node = Node(x)\n",
    "        # Append to the tail (stack's top) of the doubly linked list.\n",
    "        node.prev = self.tail.prev\n",
    "        node.next = self.tail\n",
    "        self.tail.prev.next = node\n",
    "        self.tail.prev = node\n",
    "        \n",
    "        # Add node to our dictionary.\n",
    "        if x in self.val_to_nodes:\n",
    "            self.val_to_nodes[x].append(node)\n",
    "        else:\n",
    "            self.val_to_nodes[x] = [node]\n",
    "            # Insert x in sorted order.\n",
    "            bisect.insort(self.sorted_keys, x)\n",
    "    \n",
    "    def pop(self) -> int:\n",
    "        # Remove and return the top element.\n",
    "        if self.head.next == self.tail:\n",
    "            return None  # Empty stack.\n",
    "        node = self.tail.prev\n",
    "        self._remove_from_linked_list(node)\n",
    "        \n",
    "        # Remove node from dictionary.\n",
    "        nodes_list = self.val_to_nodes[node.val]\n",
    "        for i, n in enumerate(nodes_list):\n",
    "            if n is node:\n",
    "                nodes_list.pop(i)\n",
    "                break\n",
    "        # If no more nodes with this value, remove the key.\n",
    "        if not nodes_list:\n",
    "            idx = bisect.bisect_left(self.sorted_keys, node.val)\n",
    "            self.sorted_keys.pop(idx)\n",
    "            del self.val_to_nodes[node.val]\n",
    "        return node.val\n",
    "    \n",
    "    def top(self) -> int:\n",
    "        # Return the value at the top of the stack.\n",
    "        return self.tail.prev.val if self.head.next != self.tail else None\n",
    "    \n",
    "    def peekMax(self) -> int:\n",
    "        # The max is the last element in our sorted keys.\n",
    "        return self.sorted_keys[-1] if self.sorted_keys else None\n",
    "    \n",
    "    def popMax(self) -> int:\n",
    "        # Retrieve and remove the most recently pushed node of the maximum value.\n",
    "        if not self.sorted_keys:\n",
    "            return None\n",
    "        max_val = self.sorted_keys[-1]\n",
    "        nodes_list = self.val_to_nodes[max_val]\n",
    "        node = nodes_list.pop()  # Pop the most recent node with max_val.\n",
    "        self._remove_from_linked_list(node)\n",
    "        if not nodes_list:\n",
    "            self.sorted_keys.pop()  # Remove max_val from sorted_keys.\n",
    "            del self.val_to_nodes[max_val]\n",
    "        return max_val\n",
    "    \n",
    "    def _remove_from_linked_list(self, node: Node) -> None:\n",
    "        # Remove node from doubly linked list.\n",
    "        node.prev.next = node.next\n",
    "        node.next.prev = node.prev\n",
    "\n",
    "# Example usage:\n",
    "if __name__ == \"__main__\":\n",
    "    stk = MaxStack()\n",
    "    stk.push(5)   # Stack: [5]\n",
    "    stk.push(1)   # Stack: [5, 1]\n",
    "    stk.push(5)   # Stack: [5, 1, 5]\n",
    "    print(\"Top:\", stk.top())         # Should print 5\n",
    "    print(\"popMax:\", stk.popMax())     # Removes the top-most max (5) -> returns 5\n",
    "    print(\"Top after popMax:\", stk.top())  # Now top is 1\n",
    "    print(\"peekMax:\", stk.peekMax())   # Should be 5 (remaining maximum)\n",
    "    print(\"Pop:\", stk.pop())           # Removes 1 -> returns 1\n",
    "    print(\"Top:\", stk.top())           # Now top returns 5"
   ]
  },
  {
   "cell_type": "markdown",
   "metadata": {},
   "source": [
    "## Queue\n",
    "\n",
    "A queue is a collection which follows the First In First Out (FIFO) principle.\n",
    "\n",
    "- Follows the First In First Out (FIFO) principle where the first element added is the first to be removed.\n",
    "- Uses operations such as enqueue (adding elements) and dequeue (removing elements).\n",
    "- Typically implemented using collections.deque for efficient O(1) time complexity on both operations.\n",
    "- Ideal for scenarios like task scheduling, buffering, and breadth-first traversal in algorithms.\n",
    "\n"
   ]
  },
  {
   "cell_type": "code",
   "execution_count": 139,
   "metadata": {},
   "outputs": [
    {
     "name": "stdout",
     "output_type": "stream",
     "text": [
      "Queue: deque([1, 2, 3])\n",
      "Queue after adding an element: deque([1, 2, 3, 4])\n",
      "Removed element: 1\n",
      "Queue after removing an element: deque([2, 3, 4])\n"
     ]
    }
   ],
   "source": [
    "\n",
    "from collections import deque\n",
    "\n",
    "# Creating a queue\n",
    "queue = deque([1, 2, 3])\n",
    "print(\"Queue:\", queue)\n",
    "\n",
    "# Adding elements\n",
    "queue.append(4)\n",
    "print(\"Queue after adding an element:\", queue)\n",
    "\n",
    "# Removing elements\n",
    "print(\"Removed element:\", queue.popleft())\n",
    "print(\"Queue after removing an element:\", queue)"
   ]
  },
  {
   "cell_type": "markdown",
   "metadata": {},
   "source": [
    "### Implement Stack using Queues"
   ]
  },
  {
   "cell_type": "code",
   "execution_count": 140,
   "metadata": {},
   "outputs": [],
   "source": [
    "from collections import deque\n",
    "\n",
    "class MyStack:\n",
    "    def __init__(self):\n",
    "        # Two queues used to simulate stack operations\n",
    "        self.q1 = deque()\n",
    "        self.q2 = deque()\n",
    "\n",
    "    def push(self, x: int) -> None:\n",
    "        # Always push to q2 first\n",
    "        self.q2.append(x)\n",
    "        # Move all elements from q1 to q2\n",
    "        while self.q1:\n",
    "            self.q2.append(self.q1.popleft())\n",
    "        # Swap the names so q1 has the new top\n",
    "        self.q1, self.q2 = self.q2, self.q1\n",
    "\n",
    "    def pop(self) -> int:\n",
    "        return self.q1.popleft() if not self.empty() else None\n",
    "\n",
    "    def top(self) -> int:\n",
    "        return self.q1[0] if not self.empty() else None\n",
    "\n",
    "    def empty(self) -> bool:\n",
    "        return len(self.q1) == 0"
   ]
  },
  {
   "cell_type": "code",
   "execution_count": 141,
   "metadata": {},
   "outputs": [],
   "source": [
    "# Your MyStack object will be instantiated and called as such:\n",
    "x = [\"MyStack\",\"push\",\"push\",\"top\",\"pop\",\"empty\"]\n",
    "obj = MyStack()\n",
    "obj.push(x)\n",
    "param_2 = obj.pop()\n",
    "param_3 = obj.top()\n",
    "param_4 = obj.empty()"
   ]
  },
  {
   "cell_type": "code",
   "execution_count": 174,
   "metadata": {},
   "outputs": [
    {
     "data": {
      "text/plain": [
       "['__add__',\n",
       " '__class__',\n",
       " '__class_getitem__',\n",
       " '__contains__',\n",
       " '__copy__',\n",
       " '__delattr__',\n",
       " '__delitem__',\n",
       " '__dir__',\n",
       " '__doc__',\n",
       " '__eq__',\n",
       " '__format__',\n",
       " '__ge__',\n",
       " '__getattribute__',\n",
       " '__getitem__',\n",
       " '__getstate__',\n",
       " '__gt__',\n",
       " '__hash__',\n",
       " '__iadd__',\n",
       " '__imul__',\n",
       " '__init__',\n",
       " '__init_subclass__',\n",
       " '__iter__',\n",
       " '__le__',\n",
       " '__len__',\n",
       " '__lt__',\n",
       " '__module__',\n",
       " '__mul__',\n",
       " '__ne__',\n",
       " '__new__',\n",
       " '__reduce__',\n",
       " '__reduce_ex__',\n",
       " '__repr__',\n",
       " '__reversed__',\n",
       " '__rmul__',\n",
       " '__setattr__',\n",
       " '__setitem__',\n",
       " '__sizeof__',\n",
       " '__str__',\n",
       " '__subclasshook__',\n",
       " 'append',\n",
       " 'appendleft',\n",
       " 'clear',\n",
       " 'copy',\n",
       " 'count',\n",
       " 'extend',\n",
       " 'extendleft',\n",
       " 'index',\n",
       " 'insert',\n",
       " 'maxlen',\n",
       " 'pop',\n",
       " 'popleft',\n",
       " 'remove',\n",
       " 'reverse',\n",
       " 'rotate']"
      ]
     },
     "execution_count": 174,
     "metadata": {},
     "output_type": "execute_result"
    }
   ],
   "source": [
    "from collections import deque\n",
    "dir(deque)"
   ]
  },
  {
   "cell_type": "markdown",
   "metadata": {},
   "source": [
    "### NestedIterator"
   ]
  },
  {
   "cell_type": "code",
   "execution_count": 192,
   "metadata": {},
   "outputs": [
    {
     "name": "stdout",
     "output_type": "stream",
     "text": [
      "[[2, 3], 1]\n",
      "[3, 2]\n",
      "[[6], 5]\n",
      "[6]\n",
      "[1, 2, 3, 4, 5, 6]\n"
     ]
    }
   ],
   "source": [
    "class NestedIterator:\n",
    "    def __init__(self, nestedList):\n",
    "        # Initialize the stack with the nested list in reverse order.\n",
    "        self.stack = nestedList[::-1]\n",
    "\n",
    "    def next(self) -> int:\n",
    "        # Ensure the next integer exists.\n",
    "        if not self.hasnext():\n",
    "            raise StopIteration(\"No more elements\")\n",
    "        return self.stack.pop()\n",
    "\n",
    "    def hasnext(self) -> bool:\n",
    "        # Process the stack until the top is an integer.\n",
    "        while self.stack:\n",
    "            top = self.stack[-1]\n",
    "            if isinstance(top, int):\n",
    "                return True\n",
    "            # Otherwise, pop the list and push its items in reverse order.\n",
    "            self.stack.pop() \n",
    "            self.stack.extend(top[::-1])\n",
    "        return False\n",
    "\n",
    "# Example usage:\n",
    "nestedList = [[1, [2, 3]], 4, [5, [6]]]\n",
    "i = NestedIterator(nestedList)\n",
    "result = []\n",
    "while i.hasnext():\n",
    "    result.append(i.next())\n",
    "print(result)  # Expected output: [1, 2, 3, 4, 5, 6]"
   ]
  },
  {
   "cell_type": "markdown",
   "metadata": {},
   "source": [
    "### Design Circular Queue\n",
    "\n",
    "Design your implementation of the circular queue. The circular queue is a linear data structure in which the operations are performed based on FIFO (First In First Out) principle, and the last position is connected back to the first position to make a circle. It is also called \"Ring Buffer\".\n",
    "\n",
    "One of the benefits of the circular queue is that we can make use of the spaces in front of the queue. In a normal queue, once the queue becomes full, we cannot insert the next element even if there is a space in front of the queue. But using the circular queue, we can use the space to store new values.\n",
    "\n"
   ]
  },
  {
   "cell_type": "code",
   "execution_count": 198,
   "metadata": {},
   "outputs": [
    {
     "name": "stdout",
     "output_type": "stream",
     "text": [
      "enQueue 1: True\n",
      "enQueue 2: True\n",
      "enQueue 3: True\n",
      "enQueue 4: False\n",
      "Front: 1\n",
      "Rear: 3\n",
      "deQueue: True\n",
      "enQueue 4: True\n",
      "Front: 2\n",
      "Rear: 4\n"
     ]
    }
   ],
   "source": [
    "class MyCircularQueue:\n",
    "    def __init__(self, k: int):\n",
    "        self.capacity = k\n",
    "        self.queue = [0] * k\n",
    "        self.front = 0\n",
    "        self.count = 0\n",
    "        self.rear = -1\n",
    "\n",
    "    def enQueue(self, value: int) -> bool:\n",
    "        if self.isFull():\n",
    "            return False\n",
    "        self.rear = (self.rear + 1) % self.capacity\n",
    "        self.queue[self.rear] = value\n",
    "        self.count += 1\n",
    "        return True\n",
    "\n",
    "    def deQueue(self) -> bool:\n",
    "        if self.isEmpty():\n",
    "            return False\n",
    "        self.front = (self.front + 1) % self.capacity\n",
    "        self.count -= 1\n",
    "        return True\n",
    "\n",
    "    def Front(self) -> int:\n",
    "        if self.isEmpty():\n",
    "            return -1\n",
    "        return self.queue[self.front]\n",
    "\n",
    "    def Rear(self) -> int:\n",
    "        if self.isEmpty():\n",
    "            return -1\n",
    "        return self.queue[self.rear]\n",
    "\n",
    "    def isEmpty(self) -> bool:\n",
    "        return self.count == 0\n",
    "\n",
    "    def isFull(self) -> bool:\n",
    "        return self.count == self.capacity\n",
    "\n",
    "# Example usage:\n",
    "if __name__ == \"__main__\":\n",
    "    cq = MyCircularQueue(3)\n",
    "    print(\"enQueue 1:\", cq.enQueue(1))  # True\n",
    "    print(\"enQueue 2:\", cq.enQueue(2))  # True\n",
    "    print(\"enQueue 3:\", cq.enQueue(3))  # True\n",
    "    print(\"enQueue 4:\", cq.enQueue(4))  # False, queue is full\n",
    "    print(\"Front:\", cq.Front())         # 1\n",
    "    print(\"Rear:\", cq.Rear())           # 3\n",
    "    print(\"deQueue:\", cq.deQueue())      # True\n",
    "    print(\"enQueue 4:\", cq.enQueue(4))  # True\n",
    "    print(\"Front:\", cq.Front())         # 2\n",
    "    print(\"Rear:\", cq.Rear())           # 4"
   ]
  },
  {
   "cell_type": "markdown",
   "metadata": {},
   "source": [
    "## Binary Tree\n",
    "\n",
    "\n",
    "https://www.geeksforgeeks.org/inorder-traversal-of-binary-tree/"
   ]
  },
  {
   "cell_type": "markdown",
   "metadata": {
    "vscode": {
     "languageId": "markdown"
    }
   },
   "source": [
    "\n",
    "\n",
    "- is a tree data structure where each node has at most two children: usually referred to as the left child and the right child. Binary trees are useful for various tasks such as searching, sorting, and representing hierarchical data.\n",
    "\n",
    "\n",
    "- Nodes: The fundamental part of a binary tree, where each node contains data and link to two child nodes.\n",
    "\n",
    "- Root: The topmost node in a tree is known as the root node. It has no parent and serves as the starting point for all nodes in the tree.\n",
    "\n",
    "- Parent Node: A node that has one or more child nodes. In a binary tree, each node can have at most two children.\n",
    "\n",
    "- Child Node: A node that is a descendant of another node (its parent).\n",
    "\n",
    "- Leaf Node: A node that does not have any children or both children are null.\n",
    "\n",
    "- Internal Node: A node that has at least one child. This includes all nodes except the root and the leaf nodes.\n",
    "\n",
    "- Depth of a Node: The number of edges from a specific node to the root node. The depth of the root node is zero.\n",
    "\n",
    "- Height of a Binary Tree: The number of nodes from the deepest leaf node to the root node.\n"
   ]
  },
  {
   "cell_type": "code",
   "execution_count": 146,
   "metadata": {},
   "outputs": [],
   "source": [
    "class Node:\n",
    "    def __init__(self, key):\n",
    "        self.left = None\n",
    "        self.right = None\n",
    "        self.value = key\n",
    "\n",
    "class BinaryTree:\n",
    "    def __init__(self):\n",
    "        self.root = None\n",
    "    \n",
    "    def insert(self, key):\n",
    "        if self.root is None:\n",
    "            self.root = Node(key)\n",
    "        else:\n",
    "            self._insert_recursively(self.root, key)\n",
    "    \n",
    "    def _insert_recursively(self, root, key):\n",
    "        if key < root.value:\n",
    "            if root.left is None:\n",
    "                root.left = Node(key)\n",
    "            else:\n",
    "                self._insert_recursively(root.left, key)\n",
    "        else:\n",
    "            if root.right is None:\n",
    "                root.right = Node(key)\n",
    "            else:\n",
    "                self._insert_recursively(root.right, key)\n",
    "\n",
    "    def inorder_traversal(self):\n",
    "        \"\"\"Perform an inorder traversal (left, root, right) recursively \n",
    "        and return a list of node values.\"\"\"\n",
    "        result = []\n",
    "        self._inorder_helper(self.root, result)\n",
    "        return result\n",
    "\n",
    "    def _inorder_helper(self, node, result):\n",
    "        if node is None:\n",
    "            return\n",
    "        self._inorder_helper(node.left, result)\n",
    "        result.append(node.value)\n",
    "        self._inorder_helper(node.right, result)\n",
    "\n",
    "    def inorder_traversal_iterative(self):\n",
    "        \"\"\"Perform an inorder traversal iteratively using a stack and return a list of node values.\"\"\"\n",
    "        result = []\n",
    "        stack = []\n",
    "        current = self.root\n",
    "\n",
    "        while stack or current:\n",
    "            while current:\n",
    "                stack.append(current)\n",
    "                current = current.left\n",
    "            current = stack.pop()\n",
    "            result.append(current.value)\n",
    "            current = current.right\n",
    "\n",
    "        return result\n",
    "    \n",
    "# Search for a target value in the BST\n",
    "def bst_search(root, target):\n",
    "    if root is None or root.value == target:\n",
    "        return root\n",
    "    return bst_search(root.left, target) if target < root.value else bst_search(root.right, target)\n",
    "\n"
   ]
  },
  {
   "cell_type": "code",
   "execution_count": 144,
   "metadata": {},
   "outputs": [
    {
     "name": "stdout",
     "output_type": "stream",
     "text": [
      "4\n",
      "8\n",
      "10\n",
      "12\n",
      "14\n",
      "20\n",
      "22\n",
      "Recursive Inorder Traversal: [4, 8, 10, 12, 14, 20, 22]\n",
      "Iterative Inorder Traversal: [4, 8, 10, 12, 14, 20, 22]\n"
     ]
    }
   ],
   "source": [
    "# Create binary tree and insert nodes from list\n",
    "nodes = [20, 8, 22, 4, 12, 10, 14]\n",
    "tree = BinaryTree()\n",
    "\n",
    "for node in nodes:\n",
    "    tree.insert(node)\n",
    "\n",
    "# Print the tree using inorder traversal (sorted order)\n",
    "print(\"Recursive Inorder Traversal:\", tree.inorder_traversal())\n",
    "print(\"Iterative Inorder Traversal:\", tree.inorder_traversal_iterative())\n"
   ]
  },
  {
   "cell_type": "code",
   "execution_count": 149,
   "metadata": {},
   "outputs": [
    {
     "data": {
      "text/plain": [
       "8"
      ]
     },
     "execution_count": 149,
     "metadata": {},
     "output_type": "execute_result"
    }
   ],
   "source": [
    "bst_search(tree.root, 8).value"
   ]
  },
  {
   "cell_type": "code",
   "execution_count": null,
   "metadata": {},
   "outputs": [],
   "source": []
  },
  {
   "cell_type": "code",
   "execution_count": 41,
   "metadata": {},
   "outputs": [],
   "source": [
    "\n",
    "def upsideDownBinaryTree(root):\n",
    "    if not root or not root.left:\n",
    "        return root\n",
    "    new_root = upsideDownBinaryTree(root.left)\n",
    "    root.left.left = root.right\n",
    "    root.left.right = root\n",
    "    root.left = None\n",
    "    root.right = None\n",
    "    return new_root\n",
    "\n",
    "new_root = upsideDownBinaryTree(tree.root)\n"
   ]
  },
  {
   "cell_type": "code",
   "execution_count": 44,
   "metadata": {},
   "outputs": [
    {
     "data": {
      "text/plain": [
       "4"
      ]
     },
     "execution_count": 44,
     "metadata": {},
     "output_type": "execute_result"
    }
   ],
   "source": [
    "new_root.value"
   ]
  },
  {
   "cell_type": "markdown",
   "metadata": {},
   "source": [
    "### Heap\n",
    "\n",
    "\n",
    "A heap is a specialized tree-based data structure that satisfies the heap property—every parent node is either less than or equal to (in a min-heap) or greater than or equal to (in a max-heap) its children. In Python, the heapq module provides an efficient implementation of a min-heap using a simple list.\n",
    "\n",
    "This allows for operations such as heapify, heappush, heappop, and heapreplace, which are useful in building priority queues, efficiently finding the smallest (or largest) element, and scheduling tasks.\n",
    "\n",
    "heapq.heapify(values)\n",
    "print(\"Min-heap:\", values)\n",
    "heapq.heappush(values, 0)\n",
    "print(\"After pushing 0:\", values)\n",
    "smallest = heapq.heappop(values)\n",
    "print(\"Popped smallest element:\", smallest)\n",
    "print(\"Heap after pop:\", values)"
   ]
  },
  {
   "cell_type": "code",
   "execution_count": 193,
   "metadata": {},
   "outputs": [],
   "source": [
    "import heapq\n",
    "\n",
    "def min_meeting_rooms(intervals):\n",
    "    if not intervals:\n",
    "        return 0\n",
    "\n",
    "    intervals.sort(key=lambda x: x[0])\n",
    "    heap = []\n",
    "    for interval in intervals:\n",
    "        if heap and interval[0] >= heap[0]:\n",
    "            print(\"replace\", interval[1])\n",
    "            heapq.heapreplace(heap, interval[1])\n",
    "            print(heap)\n",
    "        else:\n",
    "            print(\"push\", interval[1])\n",
    "            heapq.heappush(heap, interval[1])\n",
    "    return len(heap), heap"
   ]
  },
  {
   "cell_type": "code",
   "execution_count": 194,
   "metadata": {},
   "outputs": [
    {
     "name": "stdout",
     "output_type": "stream",
     "text": [
      "push 30\n",
      "push 10\n",
      "replace 20\n",
      "[20, 30]\n"
     ]
    },
    {
     "data": {
      "text/plain": [
       "(2, [20, 30])"
      ]
     },
     "execution_count": 194,
     "metadata": {},
     "output_type": "execute_result"
    }
   ],
   "source": [
    "intervals = [[0,30],[5,10],[15,20]]\n",
    "min_meeting_rooms(intervals)"
   ]
  },
  {
   "cell_type": "code",
   "execution_count": null,
   "metadata": {},
   "outputs": [],
   "source": [
    "# Creating a dictionary\n",
    "my_dict = {\"name\": \"Alice\", \"age\": 25, \"city\": \"New York\"}\n",
    "print(\"Dictionary:\", my_dict)\n",
    "\n",
    "# Accessing elements\n",
    "print(\"Name:\", my_dict[\"name\"])\n",
    "\n",
    "# Modifying elements\n",
    "my_dict[\"age\"] = 26\n",
    "print(\"Modified dictionary:\", my_dict)"
   ]
  },
  {
   "cell_type": "markdown",
   "metadata": {},
   "source": [
    "### Linked List"
   ]
  },
  {
   "cell_type": "code",
   "execution_count": null,
   "metadata": {},
   "outputs": [],
   "source": [
    "class Node:\n",
    "    def __init__(self, data):\n",
    "        self.data = data\n",
    "        self.next = None\n",
    "\n",
    "class LinkedList:\n",
    "    def __init__(self):\n",
    "        self.head = None\n",
    "\n",
    "    def append(self, data):\n",
    "        new_node = Node(data)\n",
    "        if not self.head:\n",
    "            self.head = new_node\n",
    "            return\n",
    "        last = self.head\n",
    "        while last.next:\n",
    "            last = last.next\n",
    "        last.next = new_node\n",
    "\n",
    "    def print_list(self):\n",
    "        current = self.head\n",
    "        while current:\n",
    "            print(current.data, end=\" -> \")\n",
    "            current = current.next\n",
    "        print(\"None\")\n",
    "\n",
    "# Creating a linked list\n",
    "ll = LinkedList()\n",
    "ll.append(1)\n",
    "ll.append(2)\n",
    "ll.append(3)\n",
    "print(\"Linked List:\")\n",
    "ll.print_list()"
   ]
  },
  {
   "cell_type": "code",
   "execution_count": null,
   "metadata": {},
   "outputs": [],
   "source": []
  },
  {
   "cell_type": "code",
   "execution_count": null,
   "metadata": {},
   "outputs": [],
   "source": []
  }
 ],
 "metadata": {
  "kernelspec": {
   "display_name": "condav0",
   "language": "python",
   "name": "python3"
  },
  "language_info": {
   "codemirror_mode": {
    "name": "ipython",
    "version": 3
   },
   "file_extension": ".py",
   "mimetype": "text/x-python",
   "name": "python",
   "nbconvert_exporter": "python",
   "pygments_lexer": "ipython3",
   "version": "3.12.7"
  }
 },
 "nbformat": 4,
 "nbformat_minor": 2
}
